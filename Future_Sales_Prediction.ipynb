{
  "nbformat": 4,
  "nbformat_minor": 0,
  "metadata": {
    "colab": {
      "name": "Future Sales Prediction.ipynb",
      "provenance": [],
      "toc_visible": true,
      "mount_file_id": "1pq4YuFdpX7MHaqK-WPotCpl89NrpPkTR",
      "authorship_tag": "ABX9TyPAHkG43TvrIXvyq/DNpQ5K",
      "include_colab_link": true
    },
    "kernelspec": {
      "name": "python3",
      "display_name": "Python 3"
    }
  },
  "cells": [
    {
      "cell_type": "markdown",
      "metadata": {
        "id": "view-in-github",
        "colab_type": "text"
      },
      "source": [
        "<a href=\"https://colab.research.google.com/github/starkworld/Future-Sales-Prediction/blob/master/Future_Sales_Prediction.ipynb\" target=\"_parent\"><img src=\"https://colab.research.google.com/assets/colab-badge.svg\" alt=\"Open In Colab\"/></a>"
      ]
    },
    {
      "cell_type": "markdown",
      "metadata": {
        "id": "RzT9rwIt9YLG",
        "colab_type": "text"
      },
      "source": [
        "# Importing Libraries"
      ]
    },
    {
      "cell_type": "code",
      "metadata": {
        "id": "R1gLuW3Q8jNd",
        "colab_type": "code",
        "colab": {}
      },
      "source": [
        "import numpy as np\n",
        "import pandas as pd\n",
        "import matplotlib.pyplot as plt\n",
        "import seaborn as sns\n",
        "from itertools import product"
      ],
      "execution_count": null,
      "outputs": []
    },
    {
      "cell_type": "markdown",
      "metadata": {
        "id": "yiuUk2tx9bv4",
        "colab_type": "text"
      },
      "source": [
        "# Loading Dataset"
      ]
    },
    {
      "cell_type": "code",
      "metadata": {
        "id": "Rme4GKwt8vP1",
        "colab_type": "code",
        "colab": {}
      },
      "source": [
        "item_cat = pd.read_csv('/content/drive/My Drive/competitive-data-science-predict-future-sales/item_categories.csv')\n",
        "items = pd.read_csv('/content/drive/My Drive/competitive-data-science-predict-future-sales/items.csv')\n",
        "train = pd.read_csv('/content/drive/My Drive/competitive-data-science-predict-future-sales/sales_train.csv')\n",
        "shops = pd.read_csv('/content/drive/My Drive/competitive-data-science-predict-future-sales/shops.csv')\n",
        "test = pd.read_csv('/content/drive/My Drive/competitive-data-science-predict-future-sales/test.csv').set_index('ID')\n",
        "items = items.drop(['item_name'], axis=1)"
      ],
      "execution_count": null,
      "outputs": []
    },
    {
      "cell_type": "markdown",
      "metadata": {
        "id": "dvmeYtoS_GXr",
        "colab_type": "text"
      },
      "source": [
        "## Printing range of columns of datasets"
      ]
    },
    {
      "cell_type": "code",
      "metadata": {
        "id": "bVNMa9w89us9",
        "colab_type": "code",
        "colab": {
          "base_uri": "https://localhost:8080/",
          "height": 238
        },
        "outputId": "7d08cb60-2e91-4930-ce00-2ac9fdc8300e"
      },
      "source": [
        "print('Train')\n",
        "for i in train.columns.values:\n",
        "  print(f\"{i}, {train[i].min()}, {train[i].max()}\")\n",
        "\n",
        "print('Items')\n",
        "for j in items.columns.values:\n",
        "  print(f'{j}, {items[j].min()}, {items[j].max()}')\n",
        "\n",
        "print('Test')\n",
        "for t in test.columns.values:\n",
        "  print(f\"{t}, {test[t].min()}, {test[t].max()}\")"
      ],
      "execution_count": null,
      "outputs": [
        {
          "output_type": "stream",
          "text": [
            "Train\n",
            "date, 01.01.2013, 31.12.2014\n",
            "date_block_num, 0, 33\n",
            "shop_id, 0, 59\n",
            "item_id, 0, 22169\n",
            "item_price, -1.0, 307980.0\n",
            "item_cnt_day, -22.0, 2169.0\n",
            "Items\n",
            "item_id, 0, 22169\n",
            "item_category_id, 0, 83\n",
            "Test\n",
            "shop_id, 2, 59\n",
            "item_id, 30, 22167\n"
          ],
          "name": "stdout"
        }
      ]
    },
    {
      "cell_type": "code",
      "metadata": {
        "id": "GIae6von-5cU",
        "colab_type": "code",
        "colab": {}
      },
      "source": [
        "train = pd.merge(train,items, on='item_id',how='left')\n",
        "test = pd.merge(test,items,  on='item_id', how='left')"
      ],
      "execution_count": null,
      "outputs": []
    },
    {
      "cell_type": "code",
      "metadata": {
        "id": "VxYvwOTkAj7X",
        "colab_type": "code",
        "colab": {
          "base_uri": "https://localhost:8080/",
          "height": 51
        },
        "outputId": "82c198e6-e5d1-4e56-ba1a-88931385ebce"
      },
      "source": [
        "display(train.shape, test.shape)"
      ],
      "execution_count": null,
      "outputs": [
        {
          "output_type": "display_data",
          "data": {
            "text/plain": [
              "(2935849, 7)"
            ]
          },
          "metadata": {
            "tags": []
          }
        },
        {
          "output_type": "display_data",
          "data": {
            "text/plain": [
              "(214200, 3)"
            ]
          },
          "metadata": {
            "tags": []
          }
        }
      ]
    },
    {
      "cell_type": "markdown",
      "metadata": {
        "id": "8XOQAsteBQCU",
        "colab_type": "text"
      },
      "source": [
        "## Showing the outliers of dataset"
      ]
    },
    {
      "cell_type": "code",
      "metadata": {
        "id": "5UgAcIhqApZ8",
        "colab_type": "code",
        "colab": {
          "base_uri": "https://localhost:8080/",
          "height": 300
        },
        "outputId": "bb531e38-fd27-432b-c234-24fb52658217"
      },
      "source": [
        "columns = [ 'date_block_num', 'shop_id', 'item_id',  'item_price', 'item_cnt_day', 'item_category_id']\n",
        "no_of_col = len(columns)\n",
        "plt.figure(figsize=(3*no_of_col, 10))\n",
        "for cat in range(0, no_of_col):\n",
        "  plt.subplot(2, no_of_col, cat+1)\n",
        "  sns.boxplot(train[columns[cat]], orient='v')\n",
        "  plt.tight_layout()"
      ],
      "execution_count": null,
      "outputs": [
        {
          "output_type": "display_data",
          "data": {
            "image/png": "[encoded data removed]",
            "text/plain": [
              "<Figure size 1296x720 with 6 Axes>"
            ]
          },
          "metadata": {
            "tags": [],
            "needs_background": "light"
          }
        }
      ]
    },
    {
      "cell_type": "markdown",
      "metadata": {
        "id": "OvNjwm2HIlah",
        "colab_type": "text"
      },
      "source": [
        "### We will remove outliers which are greater than 10000 in item price and greater than 1000 in items day count"
      ]
    },
    {
      "cell_type": "code",
      "metadata": {
        "id": "uGsXyF22I6bY",
        "colab_type": "code",
        "colab": {}
      },
      "source": [
        "train = train[(train['item_price']<100000) & (train['item_price']>=0)]\n",
        "train = train[(train['item_cnt_day']<1000) & (train['item_cnt_day']>=0)]"
      ],
      "execution_count": null,
      "outputs": []
    },
    {
      "cell_type": "code",
      "metadata": {
        "id": "JONT2_myBdhK",
        "colab_type": "code",
        "colab": {
          "base_uri": "https://localhost:8080/",
          "height": 378
        },
        "outputId": "73fd7cb7-25ec-4d64-ead2-964e5bda03d8"
      },
      "source": [
        "columns = ['item_price', 'item_cnt_day']\n",
        "\n",
        "no_of_col = len(columns)\n",
        "plt.figure(figsize=(3*no_of_col, 10))\n",
        "for cat in range(0, no_of_col):\n",
        "  plt.subplot(2, no_of_col, cat+1)\n",
        "  sns.boxplot(train[columns[cat]], orient='v')\n",
        "  plt.tight_layout()"
      ],
      "execution_count": null,
      "outputs": [
        {
          "output_type": "display_data",
          "data": {
            "image/png": "[encoded data removed]",
            "text/plain": [
              "<Figure size 432x720 with 2 Axes>"
            ]
          },
          "metadata": {
            "tags": [],
            "needs_background": "light"
          }
        }
      ]
    },
    {
      "cell_type": "markdown",
      "metadata": {
        "id": "dRQrBy7VJHKw",
        "colab_type": "text"
      },
      "source": [
        "### Describing the correlation between independent variables and independent variable"
      ]
    },
    {
      "cell_type": "code",
      "metadata": {
        "id": "XGPOjYwYIh9I",
        "colab_type": "code",
        "colab": {
          "base_uri": "https://localhost:8080/",
          "height": 416
        },
        "outputId": "59ebd438-1f05-4bb7-b16d-a5d7cd1a3b15"
      },
      "source": [
        "columns = [ 'date_block_num', 'shop_id', 'item_id',  'item_price', 'item_cnt_day', 'item_category_id']\n",
        "corr = train[columns].corr()\n",
        "plt.figure(figsize=(7,5))\n",
        "sns.heatmap(corr,\n",
        "            xticklabels=corr.columns,\n",
        "            yticklabels=corr.columns, annot=True, cmap='Blues')"
      ],
      "execution_count": null,
      "outputs": [
        {
          "output_type": "execute_result",
          "data": {
            "text/plain": [
              "<matplotlib.axes._subplots.AxesSubplot at 0x7feb1e6f0f98>"
            ]
          },
          "metadata": {
            "tags": []
          },
          "execution_count": 41
        },
        {
          "output_type": "display_data",
          "data": {
            "image/png": "[encoded data removed]",
            "text/plain": [
              "<Figure size 504x360 with 2 Axes>"
            ]
          },
          "metadata": {
            "tags": [],
            "needs_background": "light"
          }
        }
      ]
    },
    {
      "cell_type": "markdown",
      "metadata": {
        "id": "Ks9AdV3UKMA0",
        "colab_type": "text"
      },
      "source": [
        "Above heatmap indicates that dark coloured boxes represent positively correlated lighter boxes represent negitively correlated"
      ]
    },
    {
      "cell_type": "markdown",
      "metadata": {
        "id": "opXAHro6VZKF",
        "colab_type": "text"
      },
      "source": [
        "creating a list containing shop_id, item_id associated with each block from 0 - 33"
      ]
    },
    {
      "cell_type": "code",
      "metadata": {
        "id": "SgC6Kp2HJX4U",
        "colab_type": "code",
        "colab": {
          "base_uri": "https://localhost:8080/",
          "height": 34
        },
        "outputId": "533ca862-ed19-4437-ea14-75a5c80494da"
      },
      "source": [
        "train.shape\n",
        "test.shape"
      ],
      "execution_count": null,
      "outputs": [
        {
          "output_type": "execute_result",
          "data": {
            "text/plain": [
              "(214200, 3)"
            ]
          },
          "metadata": {
            "tags": []
          },
          "execution_count": 42
        }
      ]
    },
    {
      "cell_type": "code",
      "metadata": {
        "id": "rY-Xe8GgvFg9",
        "colab_type": "code",
        "colab": {
          "base_uri": "https://localhost:8080/",
          "height": 419
        },
        "outputId": "e03d68f2-7bfd-4ba7-ce31-d23920e5cf62"
      },
      "source": [
        "train"
      ],
      "execution_count": null,
      "outputs": [
        {
          "output_type": "execute_result",
          "data": {
            "text/html": [
              "<div>\n",
              "<style scoped>\n",
              "    .dataframe tbody tr th:only-of-type {\n",
              "        vertical-align: middle;\n",
              "    }\n",
              "\n",
              "    .dataframe tbody tr th {\n",
              "        vertical-align: top;\n",
              "    }\n",
              "\n",
              "    .dataframe thead th {\n",
              "        text-align: right;\n",
              "    }\n",
              "</style>\n",
              "<table border=\"1\" class=\"dataframe\">\n",
              "  <thead>\n",
              "    <tr style=\"text-align: right;\">\n",
              "      <th></th>\n",
              "      <th>date</th>\n",
              "      <th>date_block_num</th>\n",
              "      <th>shop_id</th>\n",
              "      <th>item_id</th>\n",
              "      <th>item_price</th>\n",
              "      <th>item_cnt_day</th>\n",
              "      <th>item_category_id</th>\n",
              "    </tr>\n",
              "  </thead>\n",
              "  <tbody>\n",
              "    <tr>\n",
              "      <th>0</th>\n",
              "      <td>02.01.2013</td>\n",
              "      <td>0</td>\n",
              "      <td>59</td>\n",
              "      <td>22154</td>\n",
              "      <td>999.00</td>\n",
              "      <td>1.0</td>\n",
              "      <td>37</td>\n",
              "    </tr>\n",
              "    <tr>\n",
              "      <th>1</th>\n",
              "      <td>03.01.2013</td>\n",
              "      <td>0</td>\n",
              "      <td>25</td>\n",
              "      <td>2552</td>\n",
              "      <td>899.00</td>\n",
              "      <td>1.0</td>\n",
              "      <td>58</td>\n",
              "    </tr>\n",
              "    <tr>\n",
              "      <th>3</th>\n",
              "      <td>06.01.2013</td>\n",
              "      <td>0</td>\n",
              "      <td>25</td>\n",
              "      <td>2554</td>\n",
              "      <td>1709.05</td>\n",
              "      <td>1.0</td>\n",
              "      <td>58</td>\n",
              "    </tr>\n",
              "    <tr>\n",
              "      <th>4</th>\n",
              "      <td>15.01.2013</td>\n",
              "      <td>0</td>\n",
              "      <td>25</td>\n",
              "      <td>2555</td>\n",
              "      <td>1099.00</td>\n",
              "      <td>1.0</td>\n",
              "      <td>56</td>\n",
              "    </tr>\n",
              "    <tr>\n",
              "      <th>5</th>\n",
              "      <td>10.01.2013</td>\n",
              "      <td>0</td>\n",
              "      <td>25</td>\n",
              "      <td>2564</td>\n",
              "      <td>349.00</td>\n",
              "      <td>1.0</td>\n",
              "      <td>59</td>\n",
              "    </tr>\n",
              "    <tr>\n",
              "      <th>...</th>\n",
              "      <td>...</td>\n",
              "      <td>...</td>\n",
              "      <td>...</td>\n",
              "      <td>...</td>\n",
              "      <td>...</td>\n",
              "      <td>...</td>\n",
              "      <td>...</td>\n",
              "    </tr>\n",
              "    <tr>\n",
              "      <th>2935844</th>\n",
              "      <td>10.10.2015</td>\n",
              "      <td>33</td>\n",
              "      <td>25</td>\n",
              "      <td>7409</td>\n",
              "      <td>299.00</td>\n",
              "      <td>1.0</td>\n",
              "      <td>55</td>\n",
              "    </tr>\n",
              "    <tr>\n",
              "      <th>2935845</th>\n",
              "      <td>09.10.2015</td>\n",
              "      <td>33</td>\n",
              "      <td>25</td>\n",
              "      <td>7460</td>\n",
              "      <td>299.00</td>\n",
              "      <td>1.0</td>\n",
              "      <td>55</td>\n",
              "    </tr>\n",
              "    <tr>\n",
              "      <th>2935846</th>\n",
              "      <td>14.10.2015</td>\n",
              "      <td>33</td>\n",
              "      <td>25</td>\n",
              "      <td>7459</td>\n",
              "      <td>349.00</td>\n",
              "      <td>1.0</td>\n",
              "      <td>55</td>\n",
              "    </tr>\n",
              "    <tr>\n",
              "      <th>2935847</th>\n",
              "      <td>22.10.2015</td>\n",
              "      <td>33</td>\n",
              "      <td>25</td>\n",
              "      <td>7440</td>\n",
              "      <td>299.00</td>\n",
              "      <td>1.0</td>\n",
              "      <td>57</td>\n",
              "    </tr>\n",
              "    <tr>\n",
              "      <th>2935848</th>\n",
              "      <td>03.10.2015</td>\n",
              "      <td>33</td>\n",
              "      <td>25</td>\n",
              "      <td>7460</td>\n",
              "      <td>299.00</td>\n",
              "      <td>1.0</td>\n",
              "      <td>55</td>\n",
              "    </tr>\n",
              "  </tbody>\n",
              "</table>\n",
              "<p>2928489 rows × 7 columns</p>\n",
              "</div>"
            ],
            "text/plain": [
              "               date  date_block_num  ...  item_cnt_day  item_category_id\n",
              "0        02.01.2013               0  ...           1.0                37\n",
              "1        03.01.2013               0  ...           1.0                58\n",
              "3        06.01.2013               0  ...           1.0                58\n",
              "4        15.01.2013               0  ...           1.0                56\n",
              "5        10.01.2013               0  ...           1.0                59\n",
              "...             ...             ...  ...           ...               ...\n",
              "2935844  10.10.2015              33  ...           1.0                55\n",
              "2935845  09.10.2015              33  ...           1.0                55\n",
              "2935846  14.10.2015              33  ...           1.0                55\n",
              "2935847  22.10.2015              33  ...           1.0                57\n",
              "2935848  03.10.2015              33  ...           1.0                55\n",
              "\n",
              "[2928489 rows x 7 columns]"
            ]
          },
          "metadata": {
            "tags": []
          },
          "execution_count": 43
        }
      ]
    },
    {
      "cell_type": "markdown",
      "metadata": {
        "id": "oAW8ZyUS14Yg",
        "colab_type": "text"
      },
      "source": [
        "For all the months we create blocks which consists details of items_id/shop_id pairs"
      ]
    },
    {
      "cell_type": "code",
      "metadata": {
        "id": "hbO8xJ_yyqza",
        "colab_type": "code",
        "colab": {
          "base_uri": "https://localhost:8080/",
          "height": 204
        },
        "outputId": "6c70c8bd-08ee-42da-e3c1-7541a00caa24"
      },
      "source": [
        "index_cols = ['shop_id','item_id','date_block_num']\n",
        "\n",
        "\n",
        "grid_block = []\n",
        "for block_num in train['date_block_num'].unique():\n",
        "    cur_shops = train.loc[train['date_block_num']==block_num,'shop_id'].unique()\n",
        "    \n",
        "    cur_items = train.loc[train['date_block_num']==block_num,'item_id'].unique()\n",
        "    grid_block.append(np.array(list(product(*[cur_shops,cur_items,[block_num]])),dtype='int32'))\n",
        "grid_block = pd.DataFrame(np.vstack(grid_block),columns=index_cols,dtype=np.int32)\n",
        "grid_block.head()"
      ],
      "execution_count": null,
      "outputs": [
        {
          "output_type": "execute_result",
          "data": {
            "text/html": [
              "<div>\n",
              "<style scoped>\n",
              "    .dataframe tbody tr th:only-of-type {\n",
              "        vertical-align: middle;\n",
              "    }\n",
              "\n",
              "    .dataframe tbody tr th {\n",
              "        vertical-align: top;\n",
              "    }\n",
              "\n",
              "    .dataframe thead th {\n",
              "        text-align: right;\n",
              "    }\n",
              "</style>\n",
              "<table border=\"1\" class=\"dataframe\">\n",
              "  <thead>\n",
              "    <tr style=\"text-align: right;\">\n",
              "      <th></th>\n",
              "      <th>shop_id</th>\n",
              "      <th>item_id</th>\n",
              "      <th>date_block_num</th>\n",
              "    </tr>\n",
              "  </thead>\n",
              "  <tbody>\n",
              "    <tr>\n",
              "      <th>0</th>\n",
              "      <td>59</td>\n",
              "      <td>22154</td>\n",
              "      <td>0</td>\n",
              "    </tr>\n",
              "    <tr>\n",
              "      <th>1</th>\n",
              "      <td>59</td>\n",
              "      <td>2552</td>\n",
              "      <td>0</td>\n",
              "    </tr>\n",
              "    <tr>\n",
              "      <th>2</th>\n",
              "      <td>59</td>\n",
              "      <td>2554</td>\n",
              "      <td>0</td>\n",
              "    </tr>\n",
              "    <tr>\n",
              "      <th>3</th>\n",
              "      <td>59</td>\n",
              "      <td>2555</td>\n",
              "      <td>0</td>\n",
              "    </tr>\n",
              "    <tr>\n",
              "      <th>4</th>\n",
              "      <td>59</td>\n",
              "      <td>2564</td>\n",
              "      <td>0</td>\n",
              "    </tr>\n",
              "  </tbody>\n",
              "</table>\n",
              "</div>"
            ],
            "text/plain": [
              "   shop_id  item_id  date_block_num\n",
              "0       59    22154               0\n",
              "1       59     2552               0\n",
              "2       59     2554               0\n",
              "3       59     2555               0\n",
              "4       59     2564               0"
            ]
          },
          "metadata": {
            "tags": []
          },
          "execution_count": 44
        }
      ]
    },
    {
      "cell_type": "code",
      "metadata": {
        "id": "GP21lzr83Min",
        "colab_type": "code",
        "colab": {
          "base_uri": "https://localhost:8080/",
          "height": 419
        },
        "outputId": "d4df85e0-64ea-42a4-ba7f-af9031ae6088"
      },
      "source": [
        "new_train = train.groupby(['date_block_num','shop_id','item_id']).agg({'item_cnt_day':'sum','item_price':np.mean}).reset_index()\n",
        "new_train = pd.merge(grid_block,new_train,on=['date_block_num','shop_id','item_id'],how='left').fillna(0)\n",
        "new_train = pd.merge(new_train,items,on='item_id',how='left')\n",
        "new_train"
      ],
      "execution_count": null,
      "outputs": [
        {
          "output_type": "execute_result",
          "data": {
            "text/html": [
              "<div>\n",
              "<style scoped>\n",
              "    .dataframe tbody tr th:only-of-type {\n",
              "        vertical-align: middle;\n",
              "    }\n",
              "\n",
              "    .dataframe tbody tr th {\n",
              "        vertical-align: top;\n",
              "    }\n",
              "\n",
              "    .dataframe thead th {\n",
              "        text-align: right;\n",
              "    }\n",
              "</style>\n",
              "<table border=\"1\" class=\"dataframe\">\n",
              "  <thead>\n",
              "    <tr style=\"text-align: right;\">\n",
              "      <th></th>\n",
              "      <th>shop_id</th>\n",
              "      <th>item_id</th>\n",
              "      <th>date_block_num</th>\n",
              "      <th>item_cnt_day</th>\n",
              "      <th>item_price</th>\n",
              "      <th>item_category_id</th>\n",
              "    </tr>\n",
              "  </thead>\n",
              "  <tbody>\n",
              "    <tr>\n",
              "      <th>0</th>\n",
              "      <td>59</td>\n",
              "      <td>22154</td>\n",
              "      <td>0</td>\n",
              "      <td>1.0</td>\n",
              "      <td>999.0</td>\n",
              "      <td>37</td>\n",
              "    </tr>\n",
              "    <tr>\n",
              "      <th>1</th>\n",
              "      <td>59</td>\n",
              "      <td>2552</td>\n",
              "      <td>0</td>\n",
              "      <td>0.0</td>\n",
              "      <td>0.0</td>\n",
              "      <td>58</td>\n",
              "    </tr>\n",
              "    <tr>\n",
              "      <th>2</th>\n",
              "      <td>59</td>\n",
              "      <td>2554</td>\n",
              "      <td>0</td>\n",
              "      <td>0.0</td>\n",
              "      <td>0.0</td>\n",
              "      <td>58</td>\n",
              "    </tr>\n",
              "    <tr>\n",
              "      <th>3</th>\n",
              "      <td>59</td>\n",
              "      <td>2555</td>\n",
              "      <td>0</td>\n",
              "      <td>0.0</td>\n",
              "      <td>0.0</td>\n",
              "      <td>56</td>\n",
              "    </tr>\n",
              "    <tr>\n",
              "      <th>4</th>\n",
              "      <td>59</td>\n",
              "      <td>2564</td>\n",
              "      <td>0</td>\n",
              "      <td>0.0</td>\n",
              "      <td>0.0</td>\n",
              "      <td>59</td>\n",
              "    </tr>\n",
              "    <tr>\n",
              "      <th>...</th>\n",
              "      <td>...</td>\n",
              "      <td>...</td>\n",
              "      <td>...</td>\n",
              "      <td>...</td>\n",
              "      <td>...</td>\n",
              "      <td>...</td>\n",
              "    </tr>\n",
              "    <tr>\n",
              "      <th>10884503</th>\n",
              "      <td>21</td>\n",
              "      <td>7635</td>\n",
              "      <td>33</td>\n",
              "      <td>0.0</td>\n",
              "      <td>0.0</td>\n",
              "      <td>64</td>\n",
              "    </tr>\n",
              "    <tr>\n",
              "      <th>10884504</th>\n",
              "      <td>21</td>\n",
              "      <td>7638</td>\n",
              "      <td>33</td>\n",
              "      <td>0.0</td>\n",
              "      <td>0.0</td>\n",
              "      <td>64</td>\n",
              "    </tr>\n",
              "    <tr>\n",
              "      <th>10884505</th>\n",
              "      <td>21</td>\n",
              "      <td>7640</td>\n",
              "      <td>33</td>\n",
              "      <td>0.0</td>\n",
              "      <td>0.0</td>\n",
              "      <td>64</td>\n",
              "    </tr>\n",
              "    <tr>\n",
              "      <th>10884506</th>\n",
              "      <td>21</td>\n",
              "      <td>7632</td>\n",
              "      <td>33</td>\n",
              "      <td>0.0</td>\n",
              "      <td>0.0</td>\n",
              "      <td>64</td>\n",
              "    </tr>\n",
              "    <tr>\n",
              "      <th>10884507</th>\n",
              "      <td>21</td>\n",
              "      <td>7440</td>\n",
              "      <td>33</td>\n",
              "      <td>0.0</td>\n",
              "      <td>0.0</td>\n",
              "      <td>57</td>\n",
              "    </tr>\n",
              "  </tbody>\n",
              "</table>\n",
              "<p>10884508 rows × 6 columns</p>\n",
              "</div>"
            ],
            "text/plain": [
              "          shop_id  item_id  ...  item_price  item_category_id\n",
              "0              59    22154  ...       999.0                37\n",
              "1              59     2552  ...         0.0                58\n",
              "2              59     2554  ...         0.0                58\n",
              "3              59     2555  ...         0.0                56\n",
              "4              59     2564  ...         0.0                59\n",
              "...           ...      ...  ...         ...               ...\n",
              "10884503       21     7635  ...         0.0                64\n",
              "10884504       21     7638  ...         0.0                64\n",
              "10884505       21     7640  ...         0.0                64\n",
              "10884506       21     7632  ...         0.0                64\n",
              "10884507       21     7440  ...         0.0                57\n",
              "\n",
              "[10884508 rows x 6 columns]"
            ]
          },
          "metadata": {
            "tags": []
          },
          "execution_count": 45
        }
      ]
    },
    {
      "cell_type": "markdown",
      "metadata": {
        "id": "8kIlKFSd2V9C",
        "colab_type": "text"
      },
      "source": [
        "# Encoding Features"
      ]
    },
    {
      "cell_type": "markdown",
      "metadata": {
        "id": "gLlOhxGG2bCH",
        "colab_type": "text"
      },
      "source": [
        "#### Here we use mean encoding technique which is similar to label encoding, except here labels are correlated directly with the target. For example, in mean target encoding for each category in the feature label is decided with the mean value of the target variable on a training data. This encoding method brings out the relation between similar categories, but the connections are bounded within the categories and target itself. The advantages of the mean target encoding are that it does not affect the volume of the data and helps in faster learning"
      ]
    },
    {
      "cell_type": "code",
      "metadata": {
        "id": "KZR6QHJu2Cxr",
        "colab_type": "code",
        "colab": {}
      },
      "source": [
        "for id in ['item_id', 'shop_id', 'item_category_id']:\n",
        "    for column_id, aggregator, aggtype in [('item_price',np.mean,'avg'),('item_cnt_day',np.sum,'sum'),('item_cnt_day',np.mean,'avg')]:\n",
        "        mean_df = train.groupby([id,'date_block_num']).aggregate(aggregator).reset_index()[[column_id,id,'date_block_num']]\n",
        "        mean_df.columns = [id+'_'+aggtype+'_'+column_id,id,'date_block_num']\n",
        "        new_train = pd.merge(new_train, mean_df, on=['date_block_num',id], how='left')\n",
        "        del mean_df"
      ],
      "execution_count": null,
      "outputs": []
    },
    {
      "cell_type": "code",
      "metadata": {
        "id": "qu7VS_H69B8C",
        "colab_type": "code",
        "colab": {}
      },
      "source": [
        "for f in new_train.columns:\n",
        "    if 'item_cnt' in f:\n",
        "        new_train[f] = new_train[f].fillna(0)\n",
        "    elif 'item_price' in f:\n",
        "        new_train[f] = new_train[f].fillna(new_train[f].median())"
      ],
      "execution_count": null,
      "outputs": []
    },
    {
      "cell_type": "code",
      "metadata": {
        "id": "U2pqtPUN49jU",
        "colab_type": "code",
        "colab": {
          "base_uri": "https://localhost:8080/",
          "height": 439
        },
        "outputId": "5bdf0fc6-d0fe-4d2e-d96b-d2c768fb6837"
      },
      "source": [
        "new_train"
      ],
      "execution_count": null,
      "outputs": [
        {
          "output_type": "execute_result",
          "data": {
            "text/html": [
              "<div>\n",
              "<style scoped>\n",
              "    .dataframe tbody tr th:only-of-type {\n",
              "        vertical-align: middle;\n",
              "    }\n",
              "\n",
              "    .dataframe tbody tr th {\n",
              "        vertical-align: top;\n",
              "    }\n",
              "\n",
              "    .dataframe thead th {\n",
              "        text-align: right;\n",
              "    }\n",
              "</style>\n",
              "<table border=\"1\" class=\"dataframe\">\n",
              "  <thead>\n",
              "    <tr style=\"text-align: right;\">\n",
              "      <th></th>\n",
              "      <th>shop_id</th>\n",
              "      <th>item_id</th>\n",
              "      <th>date_block_num</th>\n",
              "      <th>item_cnt_day</th>\n",
              "      <th>item_price</th>\n",
              "      <th>item_category_id</th>\n",
              "      <th>item_id_avg_item_price</th>\n",
              "      <th>item_id_sum_item_cnt_day</th>\n",
              "      <th>item_id_avg_item_cnt_day</th>\n",
              "      <th>shop_id_avg_item_price</th>\n",
              "      <th>shop_id_sum_item_cnt_day</th>\n",
              "      <th>shop_id_avg_item_cnt_day</th>\n",
              "      <th>item_category_id_avg_item_price</th>\n",
              "      <th>item_category_id_sum_item_cnt_day</th>\n",
              "      <th>item_category_id_avg_item_cnt_day</th>\n",
              "    </tr>\n",
              "  </thead>\n",
              "  <tbody>\n",
              "    <tr>\n",
              "      <th>0</th>\n",
              "      <td>59</td>\n",
              "      <td>22154</td>\n",
              "      <td>0</td>\n",
              "      <td>1.0</td>\n",
              "      <td>999.0</td>\n",
              "      <td>37</td>\n",
              "      <td>999.00</td>\n",
              "      <td>18.0</td>\n",
              "      <td>1.0</td>\n",
              "      <td>817.799565</td>\n",
              "      <td>2026.0</td>\n",
              "      <td>1.101686</td>\n",
              "      <td>465.066215</td>\n",
              "      <td>6132.0</td>\n",
              "      <td>1.066991</td>\n",
              "    </tr>\n",
              "    <tr>\n",
              "      <th>1</th>\n",
              "      <td>59</td>\n",
              "      <td>2552</td>\n",
              "      <td>0</td>\n",
              "      <td>0.0</td>\n",
              "      <td>0.0</td>\n",
              "      <td>58</td>\n",
              "      <td>899.00</td>\n",
              "      <td>1.0</td>\n",
              "      <td>1.0</td>\n",
              "      <td>817.799565</td>\n",
              "      <td>2026.0</td>\n",
              "      <td>1.101686</td>\n",
              "      <td>1407.577320</td>\n",
              "      <td>292.0</td>\n",
              "      <td>1.003436</td>\n",
              "    </tr>\n",
              "    <tr>\n",
              "      <th>2</th>\n",
              "      <td>59</td>\n",
              "      <td>2554</td>\n",
              "      <td>0</td>\n",
              "      <td>0.0</td>\n",
              "      <td>0.0</td>\n",
              "      <td>58</td>\n",
              "      <td>1709.05</td>\n",
              "      <td>1.0</td>\n",
              "      <td>1.0</td>\n",
              "      <td>817.799565</td>\n",
              "      <td>2026.0</td>\n",
              "      <td>1.101686</td>\n",
              "      <td>1407.577320</td>\n",
              "      <td>292.0</td>\n",
              "      <td>1.003436</td>\n",
              "    </tr>\n",
              "    <tr>\n",
              "      <th>3</th>\n",
              "      <td>59</td>\n",
              "      <td>2555</td>\n",
              "      <td>0</td>\n",
              "      <td>0.0</td>\n",
              "      <td>0.0</td>\n",
              "      <td>56</td>\n",
              "      <td>1098.85</td>\n",
              "      <td>2.0</td>\n",
              "      <td>1.0</td>\n",
              "      <td>817.799565</td>\n",
              "      <td>2026.0</td>\n",
              "      <td>1.101686</td>\n",
              "      <td>867.446992</td>\n",
              "      <td>268.0</td>\n",
              "      <td>1.007519</td>\n",
              "    </tr>\n",
              "    <tr>\n",
              "      <th>4</th>\n",
              "      <td>59</td>\n",
              "      <td>2564</td>\n",
              "      <td>0</td>\n",
              "      <td>0.0</td>\n",
              "      <td>0.0</td>\n",
              "      <td>59</td>\n",
              "      <td>327.60</td>\n",
              "      <td>5.0</td>\n",
              "      <td>1.0</td>\n",
              "      <td>817.799565</td>\n",
              "      <td>2026.0</td>\n",
              "      <td>1.101686</td>\n",
              "      <td>440.204630</td>\n",
              "      <td>707.0</td>\n",
              "      <td>1.007123</td>\n",
              "    </tr>\n",
              "    <tr>\n",
              "      <th>...</th>\n",
              "      <td>...</td>\n",
              "      <td>...</td>\n",
              "      <td>...</td>\n",
              "      <td>...</td>\n",
              "      <td>...</td>\n",
              "      <td>...</td>\n",
              "      <td>...</td>\n",
              "      <td>...</td>\n",
              "      <td>...</td>\n",
              "      <td>...</td>\n",
              "      <td>...</td>\n",
              "      <td>...</td>\n",
              "      <td>...</td>\n",
              "      <td>...</td>\n",
              "      <td>...</td>\n",
              "    </tr>\n",
              "    <tr>\n",
              "      <th>10884503</th>\n",
              "      <td>21</td>\n",
              "      <td>7635</td>\n",
              "      <td>33</td>\n",
              "      <td>0.0</td>\n",
              "      <td>0.0</td>\n",
              "      <td>64</td>\n",
              "      <td>2100.00</td>\n",
              "      <td>1.0</td>\n",
              "      <td>1.0</td>\n",
              "      <td>1279.883887</td>\n",
              "      <td>1913.0</td>\n",
              "      <td>1.221584</td>\n",
              "      <td>1208.324415</td>\n",
              "      <td>875.0</td>\n",
              "      <td>1.024590</td>\n",
              "    </tr>\n",
              "    <tr>\n",
              "      <th>10884504</th>\n",
              "      <td>21</td>\n",
              "      <td>7638</td>\n",
              "      <td>33</td>\n",
              "      <td>0.0</td>\n",
              "      <td>0.0</td>\n",
              "      <td>64</td>\n",
              "      <td>1890.00</td>\n",
              "      <td>1.0</td>\n",
              "      <td>1.0</td>\n",
              "      <td>1279.883887</td>\n",
              "      <td>1913.0</td>\n",
              "      <td>1.221584</td>\n",
              "      <td>1208.324415</td>\n",
              "      <td>875.0</td>\n",
              "      <td>1.024590</td>\n",
              "    </tr>\n",
              "    <tr>\n",
              "      <th>10884505</th>\n",
              "      <td>21</td>\n",
              "      <td>7640</td>\n",
              "      <td>33</td>\n",
              "      <td>0.0</td>\n",
              "      <td>0.0</td>\n",
              "      <td>64</td>\n",
              "      <td>4040.00</td>\n",
              "      <td>1.0</td>\n",
              "      <td>1.0</td>\n",
              "      <td>1279.883887</td>\n",
              "      <td>1913.0</td>\n",
              "      <td>1.221584</td>\n",
              "      <td>1208.324415</td>\n",
              "      <td>875.0</td>\n",
              "      <td>1.024590</td>\n",
              "    </tr>\n",
              "    <tr>\n",
              "      <th>10884506</th>\n",
              "      <td>21</td>\n",
              "      <td>7632</td>\n",
              "      <td>33</td>\n",
              "      <td>0.0</td>\n",
              "      <td>0.0</td>\n",
              "      <td>64</td>\n",
              "      <td>2310.00</td>\n",
              "      <td>1.0</td>\n",
              "      <td>1.0</td>\n",
              "      <td>1279.883887</td>\n",
              "      <td>1913.0</td>\n",
              "      <td>1.221584</td>\n",
              "      <td>1208.324415</td>\n",
              "      <td>875.0</td>\n",
              "      <td>1.024590</td>\n",
              "    </tr>\n",
              "    <tr>\n",
              "      <th>10884507</th>\n",
              "      <td>21</td>\n",
              "      <td>7440</td>\n",
              "      <td>33</td>\n",
              "      <td>0.0</td>\n",
              "      <td>0.0</td>\n",
              "      <td>57</td>\n",
              "      <td>299.00</td>\n",
              "      <td>1.0</td>\n",
              "      <td>1.0</td>\n",
              "      <td>1279.883887</td>\n",
              "      <td>1913.0</td>\n",
              "      <td>1.221584</td>\n",
              "      <td>313.575342</td>\n",
              "      <td>366.0</td>\n",
              "      <td>1.002740</td>\n",
              "    </tr>\n",
              "  </tbody>\n",
              "</table>\n",
              "<p>10884508 rows × 15 columns</p>\n",
              "</div>"
            ],
            "text/plain": [
              "          shop_id  ...  item_category_id_avg_item_cnt_day\n",
              "0              59  ...                           1.066991\n",
              "1              59  ...                           1.003436\n",
              "2              59  ...                           1.003436\n",
              "3              59  ...                           1.007519\n",
              "4              59  ...                           1.007123\n",
              "...           ...  ...                                ...\n",
              "10884503       21  ...                           1.024590\n",
              "10884504       21  ...                           1.024590\n",
              "10884505       21  ...                           1.024590\n",
              "10884506       21  ...                           1.024590\n",
              "10884507       21  ...                           1.002740\n",
              "\n",
              "[10884508 rows x 15 columns]"
            ]
          },
          "metadata": {
            "tags": []
          },
          "execution_count": 48
        }
      ]
    },
    {
      "cell_type": "markdown",
      "metadata": {
        "id": "RWymQbhNAHKQ",
        "colab_type": "text"
      },
      "source": [
        "Filling NAN values"
      ]
    },
    {
      "cell_type": "code",
      "metadata": {
        "id": "GmVBiIHcArNR",
        "colab_type": "code",
        "colab": {}
      },
      "source": [
        "for f in new_train.columns:\n",
        "  if 'item_cnt' in f:\n",
        "        new_train[f] = new_train[f].fillna(0)\n",
        "  elif 'item_price' in f:\n",
        "        new_train[f] = new_train[f].fillna(new_train[f].median())"
      ],
      "execution_count": null,
      "outputs": []
    },
    {
      "cell_type": "code",
      "metadata": {
        "id": "66xZpuQljmpe",
        "colab_type": "code",
        "colab": {
          "base_uri": "https://localhost:8080/",
          "height": 34
        },
        "outputId": "ad3da341-67ba-4cb7-937f-58d39da44ba8"
      },
      "source": [
        "new_train.isnull().values.any()"
      ],
      "execution_count": null,
      "outputs": [
        {
          "output_type": "execute_result",
          "data": {
            "text/plain": [
              "False"
            ]
          },
          "metadata": {
            "tags": []
          },
          "execution_count": 50
        }
      ]
    },
    {
      "cell_type": "code",
      "metadata": {
        "id": "LmeZ6d5TkBhH",
        "colab_type": "code",
        "colab": {
          "base_uri": "https://localhost:8080/",
          "height": 34
        },
        "outputId": "83e27bcc-c91f-44dc-ccdd-1189b0915cad"
      },
      "source": [
        "new_train.shape"
      ],
      "execution_count": null,
      "outputs": [
        {
          "output_type": "execute_result",
          "data": {
            "text/plain": [
              "(10884508, 15)"
            ]
          },
          "metadata": {
            "tags": []
          },
          "execution_count": 51
        }
      ]
    },
    {
      "cell_type": "code",
      "metadata": {
        "id": "fVua3917kgiv",
        "colab_type": "code",
        "colab": {
          "base_uri": "https://localhost:8080/",
          "height": 34
        },
        "outputId": "76c70f8c-642a-4ae6-d2c5-ff2e8d0e084c"
      },
      "source": [
        "test.isnull().values.any()"
      ],
      "execution_count": null,
      "outputs": [
        {
          "output_type": "execute_result",
          "data": {
            "text/plain": [
              "False"
            ]
          },
          "metadata": {
            "tags": []
          },
          "execution_count": 52
        }
      ]
    },
    {
      "cell_type": "code",
      "metadata": {
        "id": "rOhcfGkNlyz7",
        "colab_type": "code",
        "colab": {}
      },
      "source": [
        "new_train = new_train.drop_duplicates()\n",
        "test = test.drop_duplicates()"
      ],
      "execution_count": null,
      "outputs": []
    },
    {
      "cell_type": "code",
      "metadata": {
        "id": "47NMYDokmSlX",
        "colab_type": "code",
        "colab": {
          "base_uri": "https://localhost:8080/",
          "height": 204
        },
        "outputId": "6b8ad89a-0fcc-4431-f6e0-f90fcd8fcee8"
      },
      "source": [
        "test.head()"
      ],
      "execution_count": null,
      "outputs": [
        {
          "output_type": "execute_result",
          "data": {
            "text/html": [
              "<div>\n",
              "<style scoped>\n",
              "    .dataframe tbody tr th:only-of-type {\n",
              "        vertical-align: middle;\n",
              "    }\n",
              "\n",
              "    .dataframe tbody tr th {\n",
              "        vertical-align: top;\n",
              "    }\n",
              "\n",
              "    .dataframe thead th {\n",
              "        text-align: right;\n",
              "    }\n",
              "</style>\n",
              "<table border=\"1\" class=\"dataframe\">\n",
              "  <thead>\n",
              "    <tr style=\"text-align: right;\">\n",
              "      <th></th>\n",
              "      <th>shop_id</th>\n",
              "      <th>item_id</th>\n",
              "      <th>item_category_id</th>\n",
              "    </tr>\n",
              "  </thead>\n",
              "  <tbody>\n",
              "    <tr>\n",
              "      <th>0</th>\n",
              "      <td>5</td>\n",
              "      <td>5037</td>\n",
              "      <td>19</td>\n",
              "    </tr>\n",
              "    <tr>\n",
              "      <th>1</th>\n",
              "      <td>5</td>\n",
              "      <td>5320</td>\n",
              "      <td>55</td>\n",
              "    </tr>\n",
              "    <tr>\n",
              "      <th>2</th>\n",
              "      <td>5</td>\n",
              "      <td>5233</td>\n",
              "      <td>19</td>\n",
              "    </tr>\n",
              "    <tr>\n",
              "      <th>3</th>\n",
              "      <td>5</td>\n",
              "      <td>5232</td>\n",
              "      <td>23</td>\n",
              "    </tr>\n",
              "    <tr>\n",
              "      <th>4</th>\n",
              "      <td>5</td>\n",
              "      <td>5268</td>\n",
              "      <td>20</td>\n",
              "    </tr>\n",
              "  </tbody>\n",
              "</table>\n",
              "</div>"
            ],
            "text/plain": [
              "   shop_id  item_id  item_category_id\n",
              "0        5     5037                19\n",
              "1        5     5320                55\n",
              "2        5     5233                19\n",
              "3        5     5232                23\n",
              "4        5     5268                20"
            ]
          },
          "metadata": {
            "tags": []
          },
          "execution_count": 55
        }
      ]
    },
    {
      "cell_type": "code",
      "metadata": {
        "id": "j30z5RWnPLjC",
        "colab_type": "code",
        "colab": {
          "base_uri": "https://localhost:8080/",
          "height": 224
        },
        "outputId": "7e308aaa-c04a-49de-c629-17549b51dee2"
      },
      "source": [
        "new_train.head()"
      ],
      "execution_count": null,
      "outputs": [
        {
          "output_type": "execute_result",
          "data": {
            "text/html": [
              "<div>\n",
              "<style scoped>\n",
              "    .dataframe tbody tr th:only-of-type {\n",
              "        vertical-align: middle;\n",
              "    }\n",
              "\n",
              "    .dataframe tbody tr th {\n",
              "        vertical-align: top;\n",
              "    }\n",
              "\n",
              "    .dataframe thead th {\n",
              "        text-align: right;\n",
              "    }\n",
              "</style>\n",
              "<table border=\"1\" class=\"dataframe\">\n",
              "  <thead>\n",
              "    <tr style=\"text-align: right;\">\n",
              "      <th></th>\n",
              "      <th>shop_id</th>\n",
              "      <th>item_id</th>\n",
              "      <th>date_block_num</th>\n",
              "      <th>item_cnt_day</th>\n",
              "      <th>item_price</th>\n",
              "      <th>item_category_id</th>\n",
              "      <th>item_id_avg_item_price</th>\n",
              "      <th>item_id_sum_item_cnt_day</th>\n",
              "      <th>item_id_avg_item_cnt_day</th>\n",
              "      <th>shop_id_avg_item_price</th>\n",
              "      <th>shop_id_sum_item_cnt_day</th>\n",
              "      <th>shop_id_avg_item_cnt_day</th>\n",
              "      <th>item_category_id_avg_item_price</th>\n",
              "      <th>item_category_id_sum_item_cnt_day</th>\n",
              "      <th>item_category_id_avg_item_cnt_day</th>\n",
              "    </tr>\n",
              "  </thead>\n",
              "  <tbody>\n",
              "    <tr>\n",
              "      <th>0</th>\n",
              "      <td>59</td>\n",
              "      <td>22154</td>\n",
              "      <td>0</td>\n",
              "      <td>1.0</td>\n",
              "      <td>999.0</td>\n",
              "      <td>37</td>\n",
              "      <td>999.00</td>\n",
              "      <td>18.0</td>\n",
              "      <td>1.0</td>\n",
              "      <td>817.799565</td>\n",
              "      <td>2026.0</td>\n",
              "      <td>1.101686</td>\n",
              "      <td>465.066215</td>\n",
              "      <td>6132.0</td>\n",
              "      <td>1.066991</td>\n",
              "    </tr>\n",
              "    <tr>\n",
              "      <th>1</th>\n",
              "      <td>59</td>\n",
              "      <td>2552</td>\n",
              "      <td>0</td>\n",
              "      <td>0.0</td>\n",
              "      <td>0.0</td>\n",
              "      <td>58</td>\n",
              "      <td>899.00</td>\n",
              "      <td>1.0</td>\n",
              "      <td>1.0</td>\n",
              "      <td>817.799565</td>\n",
              "      <td>2026.0</td>\n",
              "      <td>1.101686</td>\n",
              "      <td>1407.577320</td>\n",
              "      <td>292.0</td>\n",
              "      <td>1.003436</td>\n",
              "    </tr>\n",
              "    <tr>\n",
              "      <th>2</th>\n",
              "      <td>59</td>\n",
              "      <td>2554</td>\n",
              "      <td>0</td>\n",
              "      <td>0.0</td>\n",
              "      <td>0.0</td>\n",
              "      <td>58</td>\n",
              "      <td>1709.05</td>\n",
              "      <td>1.0</td>\n",
              "      <td>1.0</td>\n",
              "      <td>817.799565</td>\n",
              "      <td>2026.0</td>\n",
              "      <td>1.101686</td>\n",
              "      <td>1407.577320</td>\n",
              "      <td>292.0</td>\n",
              "      <td>1.003436</td>\n",
              "    </tr>\n",
              "    <tr>\n",
              "      <th>3</th>\n",
              "      <td>59</td>\n",
              "      <td>2555</td>\n",
              "      <td>0</td>\n",
              "      <td>0.0</td>\n",
              "      <td>0.0</td>\n",
              "      <td>56</td>\n",
              "      <td>1098.85</td>\n",
              "      <td>2.0</td>\n",
              "      <td>1.0</td>\n",
              "      <td>817.799565</td>\n",
              "      <td>2026.0</td>\n",
              "      <td>1.101686</td>\n",
              "      <td>867.446992</td>\n",
              "      <td>268.0</td>\n",
              "      <td>1.007519</td>\n",
              "    </tr>\n",
              "    <tr>\n",
              "      <th>4</th>\n",
              "      <td>59</td>\n",
              "      <td>2564</td>\n",
              "      <td>0</td>\n",
              "      <td>0.0</td>\n",
              "      <td>0.0</td>\n",
              "      <td>59</td>\n",
              "      <td>327.60</td>\n",
              "      <td>5.0</td>\n",
              "      <td>1.0</td>\n",
              "      <td>817.799565</td>\n",
              "      <td>2026.0</td>\n",
              "      <td>1.101686</td>\n",
              "      <td>440.204630</td>\n",
              "      <td>707.0</td>\n",
              "      <td>1.007123</td>\n",
              "    </tr>\n",
              "  </tbody>\n",
              "</table>\n",
              "</div>"
            ],
            "text/plain": [
              "   shop_id  ...  item_category_id_avg_item_cnt_day\n",
              "0       59  ...                           1.066991\n",
              "1       59  ...                           1.003436\n",
              "2       59  ...                           1.003436\n",
              "3       59  ...                           1.007519\n",
              "4       59  ...                           1.007123\n",
              "\n",
              "[5 rows x 15 columns]"
            ]
          },
          "metadata": {
            "tags": []
          },
          "execution_count": 57
        }
      ]
    },
    {
      "cell_type": "code",
      "metadata": {
        "id": "pHS8AkumQKOj",
        "colab_type": "code",
        "colab": {}
      },
      "source": [
        "col_to_drop = ['item_id_avg_item_price', 'item_id_sum_item_cnt_day', 'item_id_avg_item_cnt_day', 'shop_id_avg_item_price', 'shop_id_sum_item_cnt_day', 'shop_id_avg_item_cnt_day', 'item_category_id_avg_item_price', 'item_category_id_sum_item_cnt_day', 'item_category_id_avg_item_cnt_day', 'item_price']\n"
      ],
      "execution_count": null,
      "outputs": []
    },
    {
      "cell_type": "code",
      "metadata": {
        "id": "xbJPHhaiTeOV",
        "colab_type": "code",
        "colab": {}
      },
      "source": [
        "train_cols = new_train.columns.values\n",
        "for c in col_to_drop:\n",
        "    if c in train_cols:\n",
        "        new_train = new_train.drop(c,axis=1)"
      ],
      "execution_count": null,
      "outputs": []
    },
    {
      "cell_type": "code",
      "metadata": {
        "id": "bdkyNxD4TlKG",
        "colab_type": "code",
        "colab": {
          "base_uri": "https://localhost:8080/",
          "height": 34
        },
        "outputId": "f03d561d-d6bb-404e-a932-fd9225ffd51a"
      },
      "source": [
        "new_train.shape"
      ],
      "execution_count": null,
      "outputs": [
        {
          "output_type": "execute_result",
          "data": {
            "text/plain": [
              "(10884508, 5)"
            ]
          },
          "metadata": {
            "tags": []
          },
          "execution_count": 66
        }
      ]
    },
    {
      "cell_type": "code",
      "metadata": {
        "id": "tzeMTTMzTupx",
        "colab_type": "code",
        "colab": {}
      },
      "source": [
        ""
      ],
      "execution_count": null,
      "outputs": []
    }
  ]
}