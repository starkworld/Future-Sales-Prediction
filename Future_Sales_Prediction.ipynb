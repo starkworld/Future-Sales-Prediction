{
  "nbformat": 4,
  "nbformat_minor": 0,
  "metadata": {
    "colab": {
      "name": "Future Sales Prediction.ipynb",
      "provenance": [],
      "collapsed_sections": [],
      "toc_visible": true,
      "mount_file_id": "1pq4YuFdpX7MHaqK-WPotCpl89NrpPkTR",
      "authorship_tag": "ABX9TyPx8UVKI1PSr+8qk1fPv4hZ",
      "include_colab_link": true
    },
    "kernelspec": {
      "name": "python3",
      "display_name": "Python 3"
    },
    "accelerator": "GPU"
  },
  "cells": [
    {
      "cell_type": "markdown",
      "metadata": {
        "id": "view-in-github",
        "colab_type": "text"
      },
      "source": [
        "<a href=\"https://colab.research.google.com/github/starkworld/Future-Sales-Prediction/blob/master/Future_Sales_Prediction.ipynb\" target=\"_parent\"><img src=\"https://colab.research.google.com/assets/colab-badge.svg\" alt=\"Open In Colab\"/></a>"
      ]
    },
    {
      "cell_type": "markdown",
      "metadata": {
        "id": "6bV9l5TQoAzn",
        "colab_type": "text"
      },
      "source": [
        "Simple LSTM model for Time series problem. It involves in single layer LSTM model and with 100 epochs and 4096 batch size. Generally, First data cleaning and preprocessing has done. Later feed the data to LSTM model to predict the results of items for next month"
      ]
    },
    {
      "cell_type": "markdown",
      "metadata": {
        "id": "RzT9rwIt9YLG",
        "colab_type": "text"
      },
      "source": [
        "# Importing Libraries"
      ]
    },
    {
      "cell_type": "code",
      "metadata": {
        "id": "R1gLuW3Q8jNd",
        "colab_type": "code",
        "colab": {}
      },
      "source": [
        "import numpy as np\n",
        "import pandas as pd\n",
        "import matplotlib.pyplot as plt\n",
        "import seaborn as sns\n",
        "from itertools import product\n",
        "\n",
        "from datetime import datetime, date\n",
        "from dateutil.relativedelta import relativedelta\n",
        "\n",
        "from sklearn.preprocessing import StandardScaler\n",
        "\n",
        "\n",
        "from keras.callbacks import LambdaCallback\n",
        "from keras.models import Sequential\n",
        "from keras.layers import Dense, Activation\n",
        "from keras.layers import LSTM\n",
        "from keras.optimizers import RMSprop"
      ],
      "execution_count": 33,
      "outputs": []
    },
    {
      "cell_type": "markdown",
      "metadata": {
        "id": "yiuUk2tx9bv4",
        "colab_type": "text"
      },
      "source": [
        "# Loading Dataset"
      ]
    },
    {
      "cell_type": "code",
      "metadata": {
        "id": "Rme4GKwt8vP1",
        "colab_type": "code",
        "colab": {}
      },
      "source": [
        "item_cat = pd.read_csv('/content/drive/My Drive/competitive-data-science-predict-future-sales/item_categories.csv')\n",
        "items = pd.read_csv('/content/drive/My Drive/competitive-data-science-predict-future-sales/items.csv')\n",
        "train = pd.read_csv('/content/drive/My Drive/competitive-data-science-predict-future-sales/sales_train.csv')\n",
        "shops = pd.read_csv('/content/drive/My Drive/competitive-data-science-predict-future-sales/shops.csv')\n",
        "test = pd.read_csv('/content/drive/My Drive/competitive-data-science-predict-future-sales/test.csv').set_index('ID')\n",
        "items = items.drop(['item_name'], axis=1)"
      ],
      "execution_count": 34,
      "outputs": []
    },
    {
      "cell_type": "markdown",
      "metadata": {
        "id": "dvmeYtoS_GXr",
        "colab_type": "text"
      },
      "source": [
        "## Printing range of columns of datasets"
      ]
    },
    {
      "cell_type": "code",
      "metadata": {
        "id": "bVNMa9w89us9",
        "colab_type": "code",
        "colab": {
          "base_uri": "https://localhost:8080/",
          "height": 238
        },
        "outputId": "00af7942-5dd6-44d9-dc4c-2ce10a1bed78"
      },
      "source": [
        "print('Train')\n",
        "for i in train.columns.values:\n",
        "  print(f\"{i}, {train[i].min()}, {train[i].max()}\")\n",
        "\n",
        "print('Items')\n",
        "for j in items.columns.values:\n",
        "  print(f'{j}, {items[j].min()}, {items[j].max()}')\n",
        "\n",
        "print('Test')\n",
        "for t in test.columns.values:\n",
        "  print(f\"{t}, {test[t].min()}, {test[t].max()}\")"
      ],
      "execution_count": 35,
      "outputs": [
        {
          "output_type": "stream",
          "text": [
            "Train\n",
            "date, 01.01.2013, 31.12.2014\n",
            "date_block_num, 0, 33\n",
            "shop_id, 0, 59\n",
            "item_id, 0, 22169\n",
            "item_price, -1.0, 307980.0\n",
            "item_cnt_day, -22.0, 2169.0\n",
            "Items\n",
            "item_id, 0, 22169\n",
            "item_category_id, 0, 83\n",
            "Test\n",
            "shop_id, 2, 59\n",
            "item_id, 30, 22167\n"
          ],
          "name": "stdout"
        }
      ]
    },
    {
      "cell_type": "markdown",
      "metadata": {
        "id": "IFztwgDFriF0",
        "colab_type": "text"
      },
      "source": [
        "## Showing the outliers of dataset"
      ]
    },
    {
      "cell_type": "code",
      "metadata": {
        "id": "YzbudI2VrhuN",
        "colab_type": "code",
        "colab": {
          "base_uri": "https://localhost:8080/",
          "height": 350
        },
        "outputId": "8496c7b1-9a75-4ee2-a1c1-89d9b5c4bc8f"
      },
      "source": [
        "columns = [ 'date_block_num', 'shop_id', 'item_id',  'item_price', 'item_cnt_day']\n",
        "no_of_col = len(columns)\n",
        "plt.figure(figsize=(3*no_of_col, 10))\n",
        "for cat in range(0, no_of_col):\n",
        "  plt.subplot(2, no_of_col, cat+1)\n",
        "  sns.boxplot(train[columns[cat]], orient='v')\n",
        "  plt.tight_layout()"
      ],
      "execution_count": 36,
      "outputs": [
        {
          "output_type": "display_data",
          "data": {
            "image/png": "[encoded data removed]",
            "text/plain": [
              "<Figure size 1080x720 with 5 Axes>"
            ]
          },
          "metadata": {
            "tags": [],
            "needs_background": "light"
          }
        }
      ]
    },
    {
      "cell_type": "markdown",
      "metadata": {
        "id": "OvNjwm2HIlah",
        "colab_type": "text"
      },
      "source": [
        "### We will remove outliers which are greater than 10000 in item price and greater than 1000 in items day count"
      ]
    },
    {
      "cell_type": "code",
      "metadata": {
        "id": "uGsXyF22I6bY",
        "colab_type": "code",
        "colab": {}
      },
      "source": [
        "train = train[(train['item_price']<100000) & (train['item_price']>=0)]\n",
        "train = train[(train['item_cnt_day']<1000) & (train['item_cnt_day']>=0)]"
      ],
      "execution_count": 37,
      "outputs": []
    },
    {
      "cell_type": "code",
      "metadata": {
        "id": "JONT2_myBdhK",
        "colab_type": "code",
        "colab": {
          "base_uri": "https://localhost:8080/",
          "height": 378
        },
        "outputId": "7fc64427-f249-4659-8778-281eee1c3a90"
      },
      "source": [
        "columns = ['item_price', 'item_cnt_day']\n",
        "\n",
        "no_of_col = len(columns)\n",
        "plt.figure(figsize=(3*no_of_col, 10))\n",
        "for cat in range(0, no_of_col):\n",
        "  plt.subplot(2, no_of_col, cat+1)\n",
        "  sns.boxplot(train[columns[cat]], orient='v')\n",
        "  plt.tight_layout()"
      ],
      "execution_count": 38,
      "outputs": [
        {
          "output_type": "display_data",
          "data": {
            "image/png": "[encoded data removed]",
            "text/plain": [
              "<Figure size 432x720 with 2 Axes>"
            ]
          },
          "metadata": {
            "tags": [],
            "needs_background": "light"
          }
        }
      ]
    },
    {
      "cell_type": "markdown",
      "metadata": {
        "colab_type": "text",
        "id": "fk55L8NWaARt"
      },
      "source": [
        "### Describing the correlation between independent variables and independent variable"
      ]
    },
    {
      "cell_type": "code",
      "metadata": {
        "id": "XGPOjYwYIh9I",
        "colab_type": "code",
        "colab": {
          "base_uri": "https://localhost:8080/",
          "height": 342
        },
        "outputId": "9aaedb34-f9d4-4ccc-fbdc-e580e0bdde93"
      },
      "source": [
        "columns = [ 'date_block_num', 'shop_id', 'item_id',  'item_price', 'item_cnt_day']\n",
        "corr = train[columns].corr()\n",
        "plt.figure(figsize=(7,5))\n",
        "sns.heatmap(corr,\n",
        "            xticklabels=corr.columns,\n",
        "            yticklabels=corr.columns, annot=True, cmap='Blues')"
      ],
      "execution_count": 39,
      "outputs": [
        {
          "output_type": "execute_result",
          "data": {
            "text/plain": [
              "<matplotlib.axes._subplots.AxesSubplot at 0x7f52b31a1a20>"
            ]
          },
          "metadata": {
            "tags": []
          },
          "execution_count": 39
        },
        {
          "output_type": "display_data",
          "data": {
            "image/png": "[encoded data removed]",
            "text/plain": [
              "<Figure size 504x360 with 2 Axes>"
            ]
          },
          "metadata": {
            "tags": [],
            "needs_background": "light"
          }
        }
      ]
    },
    {
      "cell_type": "markdown",
      "metadata": {
        "id": "Ks9AdV3UKMA0",
        "colab_type": "text"
      },
      "source": [
        "Above heatmap indicates that dark coloured boxes represent positively correlated lighter boxes represent negitively correlated"
      ]
    },
    {
      "cell_type": "markdown",
      "metadata": {
        "id": "VvjgNj_unPFp",
        "colab_type": "text"
      },
      "source": [
        "## Converting date to string"
      ]
    },
    {
      "cell_type": "code",
      "metadata": {
        "id": "ajylNizkZoVE",
        "colab_type": "code",
        "colab": {}
      },
      "source": [
        "train['date'] = pd.to_datetime(train['date'],format = '%d.%m.%Y')"
      ],
      "execution_count": 40,
      "outputs": []
    },
    {
      "cell_type": "code",
      "metadata": {
        "id": "lX_SAeTEYEN6",
        "colab_type": "code",
        "colab": {}
      },
      "source": [
        "new_train = train.pivot_table(index = ['shop_id','item_id'],values = ['item_cnt_day'],columns = ['date_block_num'],fill_value = 0,aggfunc='sum')"
      ],
      "execution_count": 41,
      "outputs": []
    },
    {
      "cell_type": "code",
      "metadata": {
        "id": "eBuanNVJYcSr",
        "colab_type": "code",
        "colab": {}
      },
      "source": [
        "new_train.reset_index(inplace = True)"
      ],
      "execution_count": 42,
      "outputs": []
    },
    {
      "cell_type": "code",
      "metadata": {
        "id": "kQMzusruYn0b",
        "colab_type": "code",
        "colab": {
          "base_uri": "https://localhost:8080/",
          "height": 105
        },
        "outputId": "a9748f98-444a-4643-fd35-6a0b6a76aaf5"
      },
      "source": [
        "new_train = pd.merge(test,new_train,on = ['item_id','shop_id'],how = 'left')"
      ],
      "execution_count": 43,
      "outputs": [
        {
          "output_type": "stream",
          "text": [
            "/usr/local/lib/python3.6/dist-packages/pandas/core/reshape/merge.py:618: UserWarning: merging between different levels can give an unintended result (1 levels on the left, 2 on the right)\n",
            "  warnings.warn(msg, UserWarning)\n",
            "/usr/local/lib/python3.6/dist-packages/pandas/core/generic.py:3936: PerformanceWarning: dropping on a non-lexsorted multi-index without a level parameter may impact performance.\n",
            "  obj = obj._drop_axis(labels, axis, level=level, errors=errors)\n"
          ],
          "name": "stderr"
        }
      ]
    },
    {
      "cell_type": "code",
      "metadata": {
        "id": "xrBY65pdYsUY",
        "colab_type": "code",
        "colab": {}
      },
      "source": [
        "new_train.fillna(0,inplace = True)"
      ],
      "execution_count": 44,
      "outputs": []
    },
    {
      "cell_type": "code",
      "metadata": {
        "id": "2fezaJ4cYwzJ",
        "colab_type": "code",
        "colab": {}
      },
      "source": [
        "new_train.drop(['shop_id','item_id'],inplace = True, axis = 1)"
      ],
      "execution_count": 45,
      "outputs": []
    },
    {
      "cell_type": "code",
      "metadata": {
        "id": "hEcQ04m3Y6LH",
        "colab_type": "code",
        "colab": {
          "base_uri": "https://localhost:8080/",
          "height": 34
        },
        "outputId": "a6e4302f-f74b-40fd-de88-9075c61e190b"
      },
      "source": [
        "\n",
        "x_train = np.expand_dims(new_train.values[:,:-1],axis = 2)\n",
        "\n",
        "y_train = new_train.values[:,-1:]\n",
        "\n",
        "\n",
        "x_test = np.expand_dims(new_train.values[:,1:],axis = 2)\n",
        "\n",
        "\n",
        "print(x_train.shape,y_train.shape,x_test.shape)"
      ],
      "execution_count": 46,
      "outputs": [
        {
          "output_type": "stream",
          "text": [
            "(214200, 33, 1) (214200, 1) (214200, 33, 1)\n"
          ],
          "name": "stdout"
        }
      ]
    },
    {
      "cell_type": "markdown",
      "metadata": {
        "id": "dGQWDGRPnpKl",
        "colab_type": "text"
      },
      "source": [
        "## Importing LSTM model and constructing LSTM netwoek of single layer\n",
        "\n",
        "Traninng model with train data"
      ]
    },
    {
      "cell_type": "code",
      "metadata": {
        "id": "15R6d6CIqkpE",
        "colab_type": "code",
        "colab": {
          "base_uri": "https://localhost:8080/",
          "height": 1000
        },
        "outputId": "03b30532-0442-4864-b251-ea85991e2a05"
      },
      "source": [
        "model = Sequential()\n",
        "model.add(LSTM(units = 64,input_shape = (33,1)))\n",
        "\n",
        "model.add(Dense(10, activation='relu'))\n",
        "\n",
        "model.compile(optimizer = 'adam', loss = 'mean_squared_error')\n",
        "history = model.fit(x_train, y_train, epochs = 100, batch_size = 4096)"
      ],
      "execution_count": 71,
      "outputs": [
        {
          "output_type": "stream",
          "text": [
            "Epoch 1/100\n",
            "53/53 [==============================] - 1s 17ms/step - loss: 7.0531\n",
            "Epoch 2/100\n",
            "53/53 [==============================] - 1s 16ms/step - loss: 6.8186\n",
            "Epoch 3/100\n",
            "53/53 [==============================] - 1s 15ms/step - loss: 6.6414\n",
            "Epoch 4/100\n",
            "53/53 [==============================] - 1s 15ms/step - loss: 6.5323\n",
            "Epoch 5/100\n",
            "53/53 [==============================] - 1s 16ms/step - loss: 6.4581\n",
            "Epoch 6/100\n",
            "53/53 [==============================] - 1s 15ms/step - loss: 6.3972\n",
            "Epoch 7/100\n",
            "53/53 [==============================] - 1s 15ms/step - loss: 6.3473\n",
            "Epoch 8/100\n",
            "53/53 [==============================] - 1s 16ms/step - loss: 6.2986\n",
            "Epoch 9/100\n",
            "53/53 [==============================] - 1s 15ms/step - loss: 6.2554\n",
            "Epoch 10/100\n",
            "53/53 [==============================] - 1s 15ms/step - loss: 6.2114\n",
            "Epoch 11/100\n",
            "53/53 [==============================] - 1s 15ms/step - loss: 6.1715\n",
            "Epoch 12/100\n",
            "53/53 [==============================] - 1s 15ms/step - loss: 6.1349\n",
            "Epoch 13/100\n",
            "53/53 [==============================] - 1s 16ms/step - loss: 6.0617\n",
            "Epoch 14/100\n",
            "53/53 [==============================] - 1s 16ms/step - loss: 5.9902\n",
            "Epoch 15/100\n",
            "53/53 [==============================] - 1s 15ms/step - loss: 5.9407\n",
            "Epoch 16/100\n",
            "53/53 [==============================] - 1s 16ms/step - loss: 5.8912\n",
            "Epoch 17/100\n",
            "53/53 [==============================] - 1s 16ms/step - loss: 5.8470\n",
            "Epoch 18/100\n",
            "53/53 [==============================] - 1s 16ms/step - loss: 5.7960\n",
            "Epoch 19/100\n",
            "53/53 [==============================] - 1s 16ms/step - loss: 5.7494\n",
            "Epoch 20/100\n",
            "53/53 [==============================] - 1s 16ms/step - loss: 5.7042\n",
            "Epoch 21/100\n",
            "53/53 [==============================] - 1s 15ms/step - loss: 5.7338\n",
            "Epoch 22/100\n",
            "53/53 [==============================] - 1s 15ms/step - loss: 5.7253\n",
            "Epoch 23/100\n",
            "53/53 [==============================] - 1s 15ms/step - loss: 5.6643\n",
            "Epoch 24/100\n",
            "53/53 [==============================] - 1s 16ms/step - loss: 5.5904\n",
            "Epoch 25/100\n",
            "53/53 [==============================] - 1s 16ms/step - loss: 5.5511\n",
            "Epoch 26/100\n",
            "53/53 [==============================] - 1s 16ms/step - loss: 5.5130\n",
            "Epoch 27/100\n",
            "53/53 [==============================] - 1s 15ms/step - loss: 5.4749\n",
            "Epoch 28/100\n",
            "53/53 [==============================] - 1s 16ms/step - loss: 5.4445\n",
            "Epoch 29/100\n",
            "53/53 [==============================] - 1s 16ms/step - loss: 5.4072\n",
            "Epoch 30/100\n",
            "53/53 [==============================] - 1s 16ms/step - loss: 5.3784\n",
            "Epoch 31/100\n",
            "53/53 [==============================] - 1s 16ms/step - loss: 5.3480\n",
            "Epoch 32/100\n",
            "53/53 [==============================] - 1s 16ms/step - loss: 5.3082\n",
            "Epoch 33/100\n",
            "53/53 [==============================] - 1s 16ms/step - loss: 5.2843\n",
            "Epoch 34/100\n",
            "53/53 [==============================] - 1s 16ms/step - loss: 5.2565\n",
            "Epoch 35/100\n",
            "53/53 [==============================] - 1s 16ms/step - loss: 5.2369\n",
            "Epoch 36/100\n",
            "53/53 [==============================] - 1s 16ms/step - loss: 5.2074\n",
            "Epoch 37/100\n",
            "53/53 [==============================] - 1s 16ms/step - loss: 5.3677\n",
            "Epoch 38/100\n",
            "53/53 [==============================] - 1s 16ms/step - loss: 5.2368\n",
            "Epoch 39/100\n",
            "53/53 [==============================] - 1s 15ms/step - loss: 5.2297\n",
            "Epoch 40/100\n",
            "53/53 [==============================] - 1s 16ms/step - loss: 5.1540\n",
            "Epoch 41/100\n",
            "53/53 [==============================] - 1s 16ms/step - loss: 5.1145\n",
            "Epoch 42/100\n",
            "53/53 [==============================] - 1s 16ms/step - loss: 5.1024\n",
            "Epoch 43/100\n",
            "53/53 [==============================] - 1s 16ms/step - loss: 5.3891\n",
            "Epoch 44/100\n",
            "53/53 [==============================] - 1s 15ms/step - loss: 5.3045\n",
            "Epoch 45/100\n",
            "53/53 [==============================] - 1s 16ms/step - loss: 5.1681\n",
            "Epoch 46/100\n",
            "53/53 [==============================] - 1s 16ms/step - loss: 5.1552\n",
            "Epoch 47/100\n",
            "53/53 [==============================] - 1s 16ms/step - loss: 5.1102\n",
            "Epoch 48/100\n",
            "53/53 [==============================] - 1s 15ms/step - loss: 5.1004\n",
            "Epoch 49/100\n",
            "53/53 [==============================] - 1s 15ms/step - loss: 5.0785\n",
            "Epoch 50/100\n",
            "53/53 [==============================] - 1s 15ms/step - loss: 5.2853\n",
            "Epoch 51/100\n",
            "53/53 [==============================] - 1s 16ms/step - loss: 5.1331\n",
            "Epoch 52/100\n",
            "53/53 [==============================] - 1s 15ms/step - loss: 5.0457\n",
            "Epoch 53/100\n",
            "53/53 [==============================] - 1s 16ms/step - loss: 5.0325\n",
            "Epoch 54/100\n",
            "53/53 [==============================] - 1s 16ms/step - loss: 5.0144\n",
            "Epoch 55/100\n",
            "53/53 [==============================] - 1s 15ms/step - loss: 4.9938\n",
            "Epoch 56/100\n",
            "53/53 [==============================] - 1s 15ms/step - loss: 4.9681\n",
            "Epoch 57/100\n",
            "53/53 [==============================] - 1s 16ms/step - loss: 4.9482\n",
            "Epoch 58/100\n",
            "53/53 [==============================] - 1s 15ms/step - loss: 4.9247\n",
            "Epoch 59/100\n",
            "53/53 [==============================] - 1s 15ms/step - loss: 4.9103\n",
            "Epoch 60/100\n",
            "53/53 [==============================] - 1s 16ms/step - loss: 4.8955\n",
            "Epoch 61/100\n",
            "53/53 [==============================] - 1s 15ms/step - loss: 4.9097\n",
            "Epoch 62/100\n",
            "53/53 [==============================] - 1s 16ms/step - loss: 4.8874\n",
            "Epoch 63/100\n",
            "53/53 [==============================] - 1s 16ms/step - loss: 4.8591\n",
            "Epoch 64/100\n",
            "53/53 [==============================] - 1s 15ms/step - loss: 4.8427\n",
            "Epoch 65/100\n",
            "53/53 [==============================] - 1s 16ms/step - loss: 4.8201\n",
            "Epoch 66/100\n",
            "53/53 [==============================] - 1s 16ms/step - loss: 4.7993\n",
            "Epoch 67/100\n",
            "53/53 [==============================] - 1s 16ms/step - loss: 4.7856\n",
            "Epoch 68/100\n",
            "53/53 [==============================] - 1s 16ms/step - loss: 4.7668\n",
            "Epoch 69/100\n",
            "53/53 [==============================] - 1s 16ms/step - loss: 4.7505\n",
            "Epoch 70/100\n",
            "53/53 [==============================] - 1s 17ms/step - loss: 4.7301\n",
            "Epoch 71/100\n",
            "53/53 [==============================] - 1s 16ms/step - loss: 4.7136\n",
            "Epoch 72/100\n",
            "53/53 [==============================] - 1s 17ms/step - loss: 4.6994\n",
            "Epoch 73/100\n",
            "53/53 [==============================] - 1s 17ms/step - loss: 4.6788\n",
            "Epoch 74/100\n",
            "53/53 [==============================] - 1s 16ms/step - loss: 4.6657\n",
            "Epoch 75/100\n",
            "53/53 [==============================] - 1s 17ms/step - loss: 4.6480\n",
            "Epoch 76/100\n",
            "53/53 [==============================] - 1s 17ms/step - loss: 4.6479\n",
            "Epoch 77/100\n",
            "53/53 [==============================] - 1s 16ms/step - loss: 4.6335\n",
            "Epoch 78/100\n",
            "53/53 [==============================] - 1s 16ms/step - loss: 4.6098\n",
            "Epoch 79/100\n",
            "53/53 [==============================] - 1s 16ms/step - loss: 4.5901\n",
            "Epoch 80/100\n",
            "53/53 [==============================] - 1s 16ms/step - loss: 4.5775\n",
            "Epoch 81/100\n",
            "53/53 [==============================] - 1s 15ms/step - loss: 4.5603\n",
            "Epoch 82/100\n",
            "53/53 [==============================] - 1s 16ms/step - loss: 4.5485\n",
            "Epoch 83/100\n",
            "53/53 [==============================] - 1s 16ms/step - loss: 4.5393\n",
            "Epoch 84/100\n",
            "53/53 [==============================] - 1s 16ms/step - loss: 4.5288\n",
            "Epoch 85/100\n",
            "53/53 [==============================] - 1s 16ms/step - loss: 4.5859\n",
            "Epoch 86/100\n",
            "53/53 [==============================] - 1s 17ms/step - loss: 4.5458\n",
            "Epoch 87/100\n",
            "53/53 [==============================] - 1s 17ms/step - loss: 4.5248\n",
            "Epoch 88/100\n",
            "53/53 [==============================] - 1s 17ms/step - loss: 4.5197\n",
            "Epoch 89/100\n",
            "53/53 [==============================] - 1s 17ms/step - loss: 4.4688\n",
            "Epoch 90/100\n",
            "53/53 [==============================] - 1s 17ms/step - loss: 4.5165\n",
            "Epoch 91/100\n",
            "53/53 [==============================] - 1s 17ms/step - loss: 4.7622\n",
            "Epoch 92/100\n",
            "53/53 [==============================] - 1s 16ms/step - loss: 4.5576\n",
            "Epoch 93/100\n",
            "53/53 [==============================] - 1s 16ms/step - loss: 4.5412\n",
            "Epoch 94/100\n",
            "53/53 [==============================] - 1s 17ms/step - loss: 4.5719\n",
            "Epoch 95/100\n",
            "53/53 [==============================] - 1s 17ms/step - loss: 4.5314\n",
            "Epoch 96/100\n",
            "53/53 [==============================] - 1s 17ms/step - loss: 4.4795\n",
            "Epoch 97/100\n",
            "53/53 [==============================] - 1s 16ms/step - loss: 4.4536\n",
            "Epoch 98/100\n",
            "53/53 [==============================] - 1s 16ms/step - loss: 4.4379\n",
            "Epoch 99/100\n",
            "53/53 [==============================] - 1s 16ms/step - loss: 4.4128\n",
            "Epoch 100/100\n",
            "53/53 [==============================] - 1s 16ms/step - loss: 4.3953\n"
          ],
          "name": "stdout"
        }
      ]
    },
    {
      "cell_type": "markdown",
      "metadata": {
        "id": "pVI0Xewwn8HS",
        "colab_type": "text"
      },
      "source": [
        "Predicting the result"
      ]
    },
    {
      "cell_type": "code",
      "metadata": {
        "id": "Zd4sgtNFEq2o",
        "colab_type": "code",
        "colab": {}
      },
      "source": [
        "submit_model = model.predict(x_test)"
      ],
      "execution_count": 72,
      "outputs": []
    }
  ]
}