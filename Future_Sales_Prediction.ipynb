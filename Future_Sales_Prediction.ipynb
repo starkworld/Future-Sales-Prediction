{
  "nbformat": 4,
  "nbformat_minor": 0,
  "metadata": {
    "colab": {
      "name": "Future Sales Prediction.ipynb",
      "provenance": [],
      "collapsed_sections": [],
      "toc_visible": true,
      "mount_file_id": "1pq4YuFdpX7MHaqK-WPotCpl89NrpPkTR",
      "authorship_tag": "ABX9TyOiaghiy+4jJCzrWWzCzKWG",
      "include_colab_link": true
    },
    "kernelspec": {
      "name": "python3",
      "display_name": "Python 3"
    },
    "accelerator": "GPU"
  },
  "cells": [
    {
      "cell_type": "markdown",
      "metadata": {
        "id": "view-in-github",
        "colab_type": "text"
      },
      "source": [
        "<a href=\"https://colab.research.google.com/github/starkworld/Future-Sales-Prediction/blob/master/Future_Sales_Prediction.ipynb\" target=\"_parent\"><img src=\"https://colab.research.google.com/assets/colab-badge.svg\" alt=\"Open In Colab\"/></a>"
      ]
    },
    {
      "cell_type": "markdown",
      "metadata": {
        "id": "RzT9rwIt9YLG",
        "colab_type": "text"
      },
      "source": [
        "# Importing Libraries"
      ]
    },
    {
      "cell_type": "code",
      "metadata": {
        "id": "R1gLuW3Q8jNd",
        "colab_type": "code",
        "colab": {
          "base_uri": "https://localhost:8080/",
          "height": 71
        },
        "outputId": "4cddd352-e374-47e2-951b-1c21b7a352e2"
      },
      "source": [
        "import numpy as np\n",
        "import pandas as pd\n",
        "import matplotlib.pyplot as plt\n",
        "import seaborn as sns\n",
        "from itertools import product\n",
        "\n",
        "from datetime import datetime, date\n",
        "from dateutil.relativedelta import relativedelta\n",
        "\n",
        "from sklearn.preprocessing import StandardScaler\n",
        "\n",
        "\n",
        "from keras.callbacks import LambdaCallback\n",
        "from keras.models import Sequential\n",
        "from keras.layers import Dense, Activation\n",
        "from keras.layers import LSTM\n",
        "from keras.optimizers import RMSprop"
      ],
      "execution_count": 1,
      "outputs": [
        {
          "output_type": "stream",
          "text": [
            "/usr/local/lib/python3.6/dist-packages/statsmodels/tools/_testing.py:19: FutureWarning: pandas.util.testing is deprecated. Use the functions in the public API at pandas.testing instead.\n",
            "  import pandas.util.testing as tm\n"
          ],
          "name": "stderr"
        }
      ]
    },
    {
      "cell_type": "markdown",
      "metadata": {
        "id": "yiuUk2tx9bv4",
        "colab_type": "text"
      },
      "source": [
        "# Loading Dataset"
      ]
    },
    {
      "cell_type": "code",
      "metadata": {
        "id": "Rme4GKwt8vP1",
        "colab_type": "code",
        "colab": {}
      },
      "source": [
        "item_cat = pd.read_csv('/content/drive/My Drive/competitive-data-science-predict-future-sales/item_categories.csv')\n",
        "items = pd.read_csv('/content/drive/My Drive/competitive-data-science-predict-future-sales/items.csv')\n",
        "train = pd.read_csv('/content/drive/My Drive/competitive-data-science-predict-future-sales/sales_train.csv')\n",
        "shops = pd.read_csv('/content/drive/My Drive/competitive-data-science-predict-future-sales/shops.csv')\n",
        "test = pd.read_csv('/content/drive/My Drive/competitive-data-science-predict-future-sales/test.csv').set_index('ID')\n",
        "items = items.drop(['item_name'], axis=1)"
      ],
      "execution_count": 2,
      "outputs": []
    },
    {
      "cell_type": "code",
      "metadata": {
        "id": "MXx4RkEZhHoi",
        "colab_type": "code",
        "colab": {}
      },
      "source": [
        "test_shops = test.shop_id.unique()\n",
        "train = train[train.shop_id.isin(test_shops)]\n",
        "test_items = test.item_id.unique()\n",
        "train = train[train.item_id.isin(test_items)]"
      ],
      "execution_count": 3,
      "outputs": []
    },
    {
      "cell_type": "markdown",
      "metadata": {
        "id": "dvmeYtoS_GXr",
        "colab_type": "text"
      },
      "source": [
        "## Printing range of columns of datasets"
      ]
    },
    {
      "cell_type": "code",
      "metadata": {
        "id": "bVNMa9w89us9",
        "colab_type": "code",
        "colab": {
          "base_uri": "https://localhost:8080/",
          "height": 238
        },
        "outputId": "ba806ff3-cdf4-4525-f1d2-590ef3f7ca8a"
      },
      "source": [
        "print('Train')\n",
        "for i in train.columns.values:\n",
        "  print(f\"{i}, {train[i].min()}, {train[i].max()}\")\n",
        "\n",
        "print('Items')\n",
        "for j in items.columns.values:\n",
        "  print(f'{j}, {items[j].min()}, {items[j].max()}')\n",
        "\n",
        "print('Test')\n",
        "for t in test.columns.values:\n",
        "  print(f\"{t}, {test[t].min()}, {test[t].max()}\")"
      ],
      "execution_count": 4,
      "outputs": [
        {
          "output_type": "stream",
          "text": [
            "Train\n",
            "date, 01.01.2013, 31.12.2014\n",
            "date_block_num, 0, 33\n",
            "shop_id, 2, 59\n",
            "item_id, 30, 22167\n",
            "item_price, 0.5, 59200.0\n",
            "item_cnt_day, -16.0, 2169.0\n",
            "Items\n",
            "item_id, 0, 22169\n",
            "item_category_id, 0, 83\n",
            "Test\n",
            "shop_id, 2, 59\n",
            "item_id, 30, 22167\n"
          ],
          "name": "stdout"
        }
      ]
    },
    {
      "cell_type": "markdown",
      "metadata": {
        "id": "IFztwgDFriF0",
        "colab_type": "text"
      },
      "source": [
        "## Showing the outliers of dataset"
      ]
    },
    {
      "cell_type": "code",
      "metadata": {
        "id": "xN1hHItHsBnN",
        "colab_type": "code",
        "colab": {}
      },
      "source": [
        "train = pd.merge(train,items, on='item_id',how='left')\n",
        "test = pd.merge(test,items,  on='item_id', how='left')"
      ],
      "execution_count": 5,
      "outputs": []
    },
    {
      "cell_type": "code",
      "metadata": {
        "id": "YzbudI2VrhuN",
        "colab_type": "code",
        "colab": {
          "base_uri": "https://localhost:8080/",
          "height": 268
        },
        "outputId": "bd2c1dae-bdb4-471a-ec96-a8e46ef3f93a"
      },
      "source": [
        "columns = [ 'date_block_num', 'shop_id', 'item_id',  'item_price', 'item_cnt_day', 'item_category_id']\n",
        "no_of_col = len(columns)\n",
        "plt.figure(figsize=(3*no_of_col, 10))\n",
        "for cat in range(0, no_of_col):\n",
        "  plt.subplot(2, no_of_col, cat+1)\n",
        "  sns.boxplot(train[columns[cat]], orient='v')\n",
        "  plt.tight_layout()"
      ],
      "execution_count": 6,
      "outputs": [
        {
          "output_type": "display_data",
          "data": {
            "image/png": "[encoded data removed]",
            "text/plain": [
              "<Figure size 1296x720 with 6 Axes>"
            ]
          },
          "metadata": {
            "tags": [],
            "needs_background": "light"
          }
        }
      ]
    },
    {
      "cell_type": "markdown",
      "metadata": {
        "id": "OvNjwm2HIlah",
        "colab_type": "text"
      },
      "source": [
        "### We will remove outliers which are greater than 10000 in item price and greater than 1000 in items day count"
      ]
    },
    {
      "cell_type": "code",
      "metadata": {
        "id": "uGsXyF22I6bY",
        "colab_type": "code",
        "colab": {}
      },
      "source": [
        "train = train[(train['item_price']<100000) & (train['item_price']>=0)]\n",
        "train = train[(train['item_cnt_day']<1000) & (train['item_cnt_day']>=0)]"
      ],
      "execution_count": 7,
      "outputs": []
    },
    {
      "cell_type": "code",
      "metadata": {
        "id": "JONT2_myBdhK",
        "colab_type": "code",
        "colab": {
          "base_uri": "https://localhost:8080/",
          "height": 376
        },
        "outputId": "a993a916-ca40-45c3-96b2-693a2a65013f"
      },
      "source": [
        "columns = ['item_price', 'item_cnt_day']\n",
        "\n",
        "no_of_col = len(columns)\n",
        "plt.figure(figsize=(3*no_of_col, 10))\n",
        "for cat in range(0, no_of_col):\n",
        "  plt.subplot(2, no_of_col, cat+1)\n",
        "  sns.boxplot(train[columns[cat]], orient='v')\n",
        "  plt.tight_layout()"
      ],
      "execution_count": 8,
      "outputs": [
        {
          "output_type": "display_data",
          "data": {
            "image/png": "[encoded data removed]",
            "text/plain": [
              "<Figure size 432x720 with 2 Axes>"
            ]
          },
          "metadata": {
            "tags": [],
            "needs_background": "light"
          }
        }
      ]
    },
    {
      "cell_type": "code",
      "metadata": {
        "id": "XGPOjYwYIh9I",
        "colab_type": "code",
        "colab": {
          "base_uri": "https://localhost:8080/",
          "height": 416
        },
        "outputId": "246a28ce-bd62-4288-9cf4-b39be4f7fc7e"
      },
      "source": [
        "columns = [ 'date_block_num', 'shop_id', 'item_id',  'item_price', 'item_cnt_day', 'item_category_id']\n",
        "corr = train[columns].corr()\n",
        "plt.figure(figsize=(7,5))\n",
        "sns.heatmap(corr,\n",
        "            xticklabels=corr.columns,\n",
        "            yticklabels=corr.columns, annot=True, cmap='Blues')"
      ],
      "execution_count": 9,
      "outputs": [
        {
          "output_type": "execute_result",
          "data": {
            "text/plain": [
              "<matplotlib.axes._subplots.AxesSubplot at 0x7ff64a760978>"
            ]
          },
          "metadata": {
            "tags": []
          },
          "execution_count": 9
        },
        {
          "output_type": "display_data",
          "data": {
            "image/png": "[encoded data removed]",
            "text/plain": [
              "<Figure size 504x360 with 2 Axes>"
            ]
          },
          "metadata": {
            "tags": [],
            "needs_background": "light"
          }
        }
      ]
    },
    {
      "cell_type": "markdown",
      "metadata": {
        "id": "Ks9AdV3UKMA0",
        "colab_type": "text"
      },
      "source": [
        "Above heatmap indicates that dark coloured boxes represent positively correlated lighter boxes represent negitively correlated"
      ]
    },
    {
      "cell_type": "code",
      "metadata": {
        "id": "qtF6x0CYiA1S",
        "colab_type": "code",
        "colab": {}
      },
      "source": [
        "train['month'] = train.date.apply(lambda x: datetime.strptime(x, '%d.%m.%Y').strftime('%m'))\n",
        "train['year'] = train.date.apply(lambda x: datetime.strptime(x, '%d.%m.%Y').strftime('%Y'))"
      ],
      "execution_count": 10,
      "outputs": []
    },
    {
      "cell_type": "code",
      "metadata": {
        "id": "1FI-Q0lDh5R6",
        "colab_type": "code",
        "colab": {}
      },
      "source": [
        "train = train.drop('date', axis=1)\n",
        "train = train.drop('item_category_id', axis=1)\n",
        "train = train.groupby(['shop_id', 'item_id', 'date_block_num', 'month', 'year']).sum()\n",
        "train = train.sort_index()"
      ],
      "execution_count": 11,
      "outputs": []
    },
    {
      "cell_type": "code",
      "metadata": {
        "id": "VxYvwOTkAj7X",
        "colab_type": "code",
        "colab": {
          "base_uri": "https://localhost:8080/",
          "height": 51
        },
        "outputId": "d52bdabf-e656-4c13-ffc1-a154be9a6426"
      },
      "source": [
        "display(train.shape, test.shape)"
      ],
      "execution_count": 12,
      "outputs": [
        {
          "output_type": "display_data",
          "data": {
            "text/plain": [
              "(599911, 2)"
            ]
          },
          "metadata": {
            "tags": []
          }
        },
        {
          "output_type": "display_data",
          "data": {
            "text/plain": [
              "(214200, 3)"
            ]
          },
          "metadata": {
            "tags": []
          }
        }
      ]
    },
    {
      "cell_type": "markdown",
      "metadata": {
        "id": "dRQrBy7VJHKw",
        "colab_type": "text"
      },
      "source": [
        "### Describing the correlation between independent variables and independent variable"
      ]
    },
    {
      "cell_type": "markdown",
      "metadata": {
        "id": "opXAHro6VZKF",
        "colab_type": "text"
      },
      "source": [
        "creating a list containing shop_id, item_id associated with each block from 0 - 33"
      ]
    },
    {
      "cell_type": "markdown",
      "metadata": {
        "id": "BFPIFZ1FisUo",
        "colab_type": "text"
      },
      "source": [
        "Normalizing the numerical value to speed up training"
      ]
    },
    {
      "cell_type": "code",
      "metadata": {
        "id": "c_Gr6HVFirXp",
        "colab_type": "code",
        "colab": {}
      },
      "source": [
        "scaler = StandardScaler()\n",
        "cnt_scaler = StandardScaler()\n",
        "\n",
        "scaler.fit(train.item_price.to_numpy().reshape(-1, 1))\n",
        "cnt_scaler.fit(train.item_cnt_day.to_numpy().reshape(-1, 1))\n",
        "\n",
        "train.item_price = scaler.transform(train.item_price.to_numpy().reshape(-1, 1))\n",
        "train.item_cnt_day = cnt_scaler.transform(train.item_cnt_day.to_numpy().reshape(-1, 1))"
      ],
      "execution_count": 13,
      "outputs": []
    },
    {
      "cell_type": "code",
      "metadata": {
        "id": "8y6wHIm9jtC8",
        "colab_type": "code",
        "colab": {
          "base_uri": "https://localhost:8080/",
          "height": 450
        },
        "outputId": "14ac8fb9-0b97-4b78-ed62-7f5e063270f3"
      },
      "source": [
        "train.reset_index().groupby(['item_id', 'date_block_num', 'shop_id']).mean()"
      ],
      "execution_count": 14,
      "outputs": [
        {
          "output_type": "execute_result",
          "data": {
            "text/html": [
              "<div>\n",
              "<style scoped>\n",
              "    .dataframe tbody tr th:only-of-type {\n",
              "        vertical-align: middle;\n",
              "    }\n",
              "\n",
              "    .dataframe tbody tr th {\n",
              "        vertical-align: top;\n",
              "    }\n",
              "\n",
              "    .dataframe thead th {\n",
              "        text-align: right;\n",
              "    }\n",
              "</style>\n",
              "<table border=\"1\" class=\"dataframe\">\n",
              "  <thead>\n",
              "    <tr style=\"text-align: right;\">\n",
              "      <th></th>\n",
              "      <th></th>\n",
              "      <th></th>\n",
              "      <th>item_price</th>\n",
              "      <th>item_cnt_day</th>\n",
              "    </tr>\n",
              "    <tr>\n",
              "      <th>item_id</th>\n",
              "      <th>date_block_num</th>\n",
              "      <th>shop_id</th>\n",
              "      <th></th>\n",
              "      <th></th>\n",
              "    </tr>\n",
              "  </thead>\n",
              "  <tbody>\n",
              "    <tr>\n",
              "      <th rowspan=\"5\" valign=\"top\">30</th>\n",
              "      <th rowspan=\"5\" valign=\"top\">1</th>\n",
              "      <th>3</th>\n",
              "      <td>-0.071500</td>\n",
              "      <td>0.120290</td>\n",
              "    </tr>\n",
              "    <tr>\n",
              "      <th>4</th>\n",
              "      <td>0.042693</td>\n",
              "      <td>0.397127</td>\n",
              "    </tr>\n",
              "    <tr>\n",
              "      <th>5</th>\n",
              "      <td>-0.071500</td>\n",
              "      <td>0.212569</td>\n",
              "    </tr>\n",
              "    <tr>\n",
              "      <th>6</th>\n",
              "      <td>0.316249</td>\n",
              "      <td>2.334982</td>\n",
              "    </tr>\n",
              "    <tr>\n",
              "      <th>7</th>\n",
              "      <td>0.151161</td>\n",
              "      <td>0.673963</td>\n",
              "    </tr>\n",
              "    <tr>\n",
              "      <th>...</th>\n",
              "      <th>...</th>\n",
              "      <th>...</th>\n",
              "      <td>...</td>\n",
              "      <td>...</td>\n",
              "    </tr>\n",
              "    <tr>\n",
              "      <th rowspan=\"5\" valign=\"top\">22167</th>\n",
              "      <th rowspan=\"5\" valign=\"top\">33</th>\n",
              "      <th>28</th>\n",
              "      <td>-0.257099</td>\n",
              "      <td>-0.156546</td>\n",
              "    </tr>\n",
              "    <tr>\n",
              "      <th>37</th>\n",
              "      <td>-0.257099</td>\n",
              "      <td>-0.156546</td>\n",
              "    </tr>\n",
              "    <tr>\n",
              "      <th>42</th>\n",
              "      <td>-0.171526</td>\n",
              "      <td>0.120290</td>\n",
              "    </tr>\n",
              "    <tr>\n",
              "      <th>47</th>\n",
              "      <td>-0.257099</td>\n",
              "      <td>-0.156546</td>\n",
              "    </tr>\n",
              "    <tr>\n",
              "      <th>50</th>\n",
              "      <td>-0.257099</td>\n",
              "      <td>-0.156546</td>\n",
              "    </tr>\n",
              "  </tbody>\n",
              "</table>\n",
              "<p>599911 rows × 2 columns</p>\n",
              "</div>"
            ],
            "text/plain": [
              "                                item_price  item_cnt_day\n",
              "item_id date_block_num shop_id                          \n",
              "30      1              3         -0.071500      0.120290\n",
              "                       4          0.042693      0.397127\n",
              "                       5         -0.071500      0.212569\n",
              "                       6          0.316249      2.334982\n",
              "                       7          0.151161      0.673963\n",
              "...                                    ...           ...\n",
              "22167   33             28        -0.257099     -0.156546\n",
              "                       37        -0.257099     -0.156546\n",
              "                       42        -0.171526      0.120290\n",
              "                       47        -0.257099     -0.156546\n",
              "                       50        -0.257099     -0.156546\n",
              "\n",
              "[599911 rows x 2 columns]"
            ]
          },
          "metadata": {
            "tags": []
          },
          "execution_count": 14
        }
      ]
    },
    {
      "cell_type": "code",
      "metadata": {
        "id": "evA4KhRGj6oW",
        "colab_type": "code",
        "colab": {}
      },
      "source": [
        "price = train.reset_index().set_index(['item_id', 'shop_id', 'date_block_num'])\n",
        "price = price.sort_index()"
      ],
      "execution_count": 15,
      "outputs": []
    },
    {
      "cell_type": "code",
      "metadata": {
        "id": "lTKCMJpWkT3j",
        "colab_type": "code",
        "colab": {}
      },
      "source": [
        "def convert(date_block):\n",
        "    date = datetime(2013, 1, 1)\n",
        "    date += relativedelta(months = date_block)\n",
        "    return (date.month, date.year)\n",
        "\n",
        "def closest_date_block(current_day, item_id, shop_id):\n",
        "    \"\"\"Find the block_date which is closest to the current_day, given item_id and shop_id. Returns index integer\"\"\"\n",
        "    if (item_id, shop_id) in price.index:\n",
        "        search_lst = np.array(price.loc[(item_id, shop_id)].index)        \n",
        "        return search_lst[np.abs(current_day - search_lst).argmin()]\n",
        "    return -1\n",
        "                \n",
        "def closest_price(current_day, item_id, shop_id):\n",
        "    closest_date = closest_date_block(current_day, item_id, shop_id)\n",
        "    if closest_date != -1:\n",
        "        return price.loc[( item_id, shop_id, closest_date )]['item_price']\n",
        "    return np.nan\n",
        "\n",
        "def closest_price_lambda(x):\n",
        "    return closest_price(34, x.item_id, x.shop_id)"
      ],
      "execution_count": 16,
      "outputs": []
    },
    {
      "cell_type": "code",
      "metadata": {
        "id": "BXldvJJQkIXT",
        "colab_type": "code",
        "colab": {}
      },
      "source": [
        "maxlen = 4 # 4 months\n",
        "step = 1\n",
        "# 0: train, 1: val, 2:test\n",
        "sentences = [[],[],[]]\n",
        "next_chars = [[], []]\n",
        "BLOCKS = [6, 18, 30]\n",
        "\n",
        "for s in test_shops:\n",
        "    shop_items = list(train.loc[s].index.get_level_values(0).unique())\n",
        "    for it in shop_items:        \n",
        "        for i_index, i in enumerate(BLOCKS):\n",
        "            sentence = []\n",
        "            closest_pc = closest_price(i, it, s)            \n",
        "            for j in range(maxlen+1):\n",
        "                if j < maxlen:\n",
        "                    if (s, it, i+j) in train.index:\n",
        "                        r = train.loc[(s, it, i + j)].to_dict(orient='list')                    \n",
        "                        closest_pc = r['item_price'][0]\n",
        "                        item_cnt_day = r['item_cnt_day'][0]\n",
        "                        row = {'shop_id': s, 'date_block_num': i+j, 'item_cnt_day': item_cnt_day, \n",
        "                               'month': month, 'item_id': it, 'item_price': closest_pc, 'year': year}\n",
        "                    else:\n",
        "                        month, year = convert(i+j)                    \n",
        "                        row = {'shop_id': s, 'date_block_num': i+j, 'item_cnt_day': 0, \n",
        "                               'month': month, 'item_id': it, 'item_price': closest_pc, 'year': year}\n",
        "                    sentence.append(row)\n",
        "                elif i_index < 2:   # not in test set\n",
        "                    next_chars[i_index].append(row)\n",
        "            sentences[i_index].append(sentence)"
      ],
      "execution_count": null,
      "outputs": []
    },
    {
      "cell_type": "code",
      "metadata": {
        "id": "nkLVAg_CywZ7",
        "colab_type": "code",
        "colab": {}
      },
      "source": [
        "train_x = np.array(sentence[0])\n",
        "val_x = np.array(sentence[1])\n",
        "test_x = np.array(sentence[2])\n",
        "train_y = np.array([row['item_cnt_day'] for row in next_chars[0]])\n",
        "val_y = np.array([row['item_cnt_day'] for row in next_chars[1]])\n",
        "\n",
        "length = len(test_shops) + len(test_items) + 7"
      ],
      "execution_count": null,
      "outputs": []
    },
    {
      "cell_type": "code",
      "metadata": {
        "id": "F3VGK6cUnZqo",
        "colab_type": "code",
        "colab": {}
      },
      "source": [
        "from sklearn import preprocessing\n",
        "\n",
        "shop_lable = preprocessing.LabelEncoder()\n",
        "shop_lable.fit(test_shops)\n",
        "shop_dict = dict(zip(test_shops, shop_le.transform(test_shops)))\n",
        "\n",
        "item_lable = preprocessing.LabelEncoder()\n",
        "item_lable.fit(test_items)\n",
        "item_dict = dict(zip(test_items, item_le.transform(test_items)))\n",
        "\n",
        "month_lable = preprocessing.LabelEncoder()\n",
        "month_lable.fit(range(7,11))\n",
        "month_dict = dict(zip(range(7,11), month_le.transform(range(7,11))))"
      ],
      "execution_count": null,
      "outputs": []
    },
    {
      "cell_type": "code",
      "metadata": {
        "id": "bc0HrMcUpLpY",
        "colab_type": "code",
        "colab": {}
      },
      "source": [
        "x_train = np.vectorize(train_x)\n",
        "x_test = np.vectorize(test_x)\n",
        "x_val = np.vectorize(val_x)"
      ],
      "execution_count": null,
      "outputs": []
    },
    {
      "cell_type": "code",
      "metadata": {
        "id": "15R6d6CIqkpE",
        "colab_type": "code",
        "colab": {}
      },
      "source": [
        "model = sequential()\n",
        "model.add(LSTM(32, return_sequence=True, input_length=(4, length)))\n",
        "model.add(LSTM(32, return_sequence=True))\n",
        "model.add(Dense(10, activation='relu'))\n",
        "\n",
        "model.compile(optimizer = 'adam', loss = 'mean_squared_error')\n",
        "model.fit(x_train, y_train, epochs = 20, batch_size = 4096)"
      ],
      "execution_count": null,
      "outputs": []
    },
    {
      "cell_type": "code",
      "metadata": {
        "id": "Zd4sgtNFEq2o",
        "colab_type": "code",
        "colab": {}
      },
      "source": [
        "model.fit(x_val, y_val, batch_size=4096, epochs=20)"
      ],
      "execution_count": null,
      "outputs": []
    }
  ]
}